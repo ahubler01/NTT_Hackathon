{
 "cells": [
  {
   "cell_type": "markdown",
   "metadata": {},
   "source": [
    "### Pip Install Commands"
   ]
  },
  {
   "cell_type": "code",
   "execution_count": 1,
   "metadata": {},
   "outputs": [
    {
     "name": "stdout",
     "output_type": "stream",
     "text": [
      "Requirement already satisfied: numpy in /opt/anaconda3/envs/ai_env/lib/python3.11/site-packages (1.26.4)\n",
      "Requirement already satisfied: pandas in /opt/anaconda3/envs/ai_env/lib/python3.11/site-packages (2.2.3)\n",
      "Requirement already satisfied: matplotlib in /opt/anaconda3/envs/ai_env/lib/python3.11/site-packages (3.10.0)\n",
      "Requirement already satisfied: scikit-learn in /opt/anaconda3/envs/ai_env/lib/python3.11/site-packages (1.5.2)\n",
      "Requirement already satisfied: lightgbm in /opt/anaconda3/envs/ai_env/lib/python3.11/site-packages (4.6.0)\n",
      "Requirement already satisfied: xgboost in /opt/anaconda3/envs/ai_env/lib/python3.11/site-packages (2.1.1)\n",
      "Requirement already satisfied: python-dateutil>=2.8.2 in /opt/anaconda3/envs/ai_env/lib/python3.11/site-packages (from pandas) (2.9.0.post0)\n",
      "Requirement already satisfied: pytz>=2020.1 in /opt/anaconda3/envs/ai_env/lib/python3.11/site-packages (from pandas) (2024.2)\n",
      "Requirement already satisfied: tzdata>=2022.7 in /opt/anaconda3/envs/ai_env/lib/python3.11/site-packages (from pandas) (2024.2)\n",
      "Requirement already satisfied: contourpy>=1.0.1 in /opt/anaconda3/envs/ai_env/lib/python3.11/site-packages (from matplotlib) (1.3.1)\n",
      "Requirement already satisfied: cycler>=0.10 in /opt/anaconda3/envs/ai_env/lib/python3.11/site-packages (from matplotlib) (0.12.1)\n",
      "Requirement already satisfied: fonttools>=4.22.0 in /opt/anaconda3/envs/ai_env/lib/python3.11/site-packages (from matplotlib) (4.55.3)\n",
      "Requirement already satisfied: kiwisolver>=1.3.1 in /opt/anaconda3/envs/ai_env/lib/python3.11/site-packages (from matplotlib) (1.4.8)\n",
      "Requirement already satisfied: packaging>=20.0 in /opt/anaconda3/envs/ai_env/lib/python3.11/site-packages (from matplotlib) (24.2)\n",
      "Requirement already satisfied: pillow>=8 in /opt/anaconda3/envs/ai_env/lib/python3.11/site-packages (from matplotlib) (10.4.0)\n",
      "Requirement already satisfied: pyparsing>=2.3.1 in /opt/anaconda3/envs/ai_env/lib/python3.11/site-packages (from matplotlib) (3.2.1)\n",
      "Requirement already satisfied: scipy>=1.6.0 in /opt/anaconda3/envs/ai_env/lib/python3.11/site-packages (from scikit-learn) (1.15.1)\n",
      "Requirement already satisfied: joblib>=1.2.0 in /opt/anaconda3/envs/ai_env/lib/python3.11/site-packages (from scikit-learn) (1.4.2)\n",
      "Requirement already satisfied: threadpoolctl>=3.1.0 in /opt/anaconda3/envs/ai_env/lib/python3.11/site-packages (from scikit-learn) (3.5.0)\n",
      "Requirement already satisfied: six>=1.5 in /opt/anaconda3/envs/ai_env/lib/python3.11/site-packages (from python-dateutil>=2.8.2->pandas) (1.17.0)\n",
      "Note: you may need to restart the kernel to use updated packages.\n"
     ]
    }
   ],
   "source": [
    "%pip install numpy pandas matplotlib scikit-learn lightgbm xgboost"
   ]
  },
  {
   "cell_type": "code",
   "execution_count": 2,
   "metadata": {},
   "outputs": [],
   "source": [
    "import numpy as np\n",
    "import pandas as pd\n",
    "import matplotlib.pyplot as plt\n",
    "from sklearn.metrics import mean_absolute_error\n",
    "import lightgbm as lgb\n",
    "import xgboost as xgb\n",
    "from numpy import fft\n"
   ]
  },
  {
   "cell_type": "markdown",
   "metadata": {},
   "source": [
    "### Load the data"
   ]
  },
  {
   "cell_type": "code",
   "execution_count": 3,
   "metadata": {},
   "outputs": [],
   "source": [
    "## This file contains historical data from around March to May 2024.\n",
    "\n",
    "df_omie_labelled = pd.read_csv('../data/df_omie_labelled.csv')\n",
    "\n",
    "# ---------------------\n",
    "\n",
    "## Contains information on the technology type (Wind or Solar) for each plant, \n",
    "## which may be useful for grouping. \n",
    "\n",
    "df_filtered_cat = pd.read_csv('../data/filtered_categories.csv')\n",
    "\n",
    "# ---------------------\n",
    "## Additional information about generation units that you can use if needed.\n",
    "\n",
    "df_unit_list = pd.read_csv('../data/unit_list.csv')"
   ]
  },
  {
   "cell_type": "markdown",
   "metadata": {},
   "source": [
    "### Data Merging & Filtering"
   ]
  },
  {
   "cell_type": "code",
   "execution_count": 4,
   "metadata": {},
   "outputs": [],
   "source": [
    "merged_df = df_omie_labelled.merge(df_unit_list, on='Codigo', how='left')\n",
    "merged_df = merged_df.merge(df_filtered_cat, on='Codigo', how='left')\n",
    "codes = df_filtered_cat['Codigo'].unique()\n",
    "merged_df = merged_df[merged_df['Codigo'].isin(codes)]"
   ]
  },
  {
   "cell_type": "markdown",
   "metadata": {},
   "source": [
    "### Feature Engineering Functions\n"
   ]
  },
  {
   "cell_type": "code",
   "execution_count": 5,
   "metadata": {},
   "outputs": [],
   "source": [
    "def time_features(df: pd.DataFrame):\n",
    "    df['fechaHora'] = pd.to_datetime(df['fechaHora'])\n",
    "    df['date'] = df['fechaHora'].dt.date\n",
    "    df['hour'] = df['fechaHora'].dt.hour\n",
    "    df['day_of_week'] = df['fechaHora'].dt.dayofweek  # Monday=0, Sunday=6\n",
    "    df['month'] = df['fechaHora'].dt.month\n",
    "    df['day_of_month'] = df['fechaHora'].dt.day\n",
    "    df['is_weekend'] = df['day_of_week'].isin([5, 6]).astype(int)\n",
    "    df.sort_values(['fechaHora', 'Codigo'], inplace=True)\n",
    "    # Create a time index (in hours) since the start\n",
    "    df['t'] = (df['fechaHora'] - df['fechaHora'].min()).dt.total_seconds() / 3600\n",
    "\n",
    "    # Create sin/cos features for capturing cyclic behavior over a 24-hour period.\n",
    "    def sin_cos_features(df: pd.DataFrame, period, K, time_col='t'):\n",
    "        df = df.sort_values(['Codigo', 'fechaHora'])\n",
    "        for k in range(1, K + 1):\n",
    "            df[f'sin_{period}_{k}'] = np.sin(2 * np.pi * k * df[time_col] / period)\n",
    "            df[f'cos_{period}_{k}'] = np.cos(2 * np.pi * k * df[time_col] / period)\n",
    "        return df\n",
    "\n",
    "    df = sin_cos_features(df, period=24, K=3)\n",
    "    return df    \n",
    "\n",
    "def cyclical_features(df: pd.DataFrame):\n",
    "    df['hour_sin'] = np.sin(2 * np.pi * df['hour'] / 24)\n",
    "    df['hour_cos'] = np.cos(2 * np.pi * df['hour'] / 24)\n",
    "    df['dow_sin'] = np.sin(2 * np.pi * df['day_of_week'] / 7)\n",
    "    df['dow_cos'] = np.cos(2 * np.pi * df['day_of_week'] / 7)\n",
    "    return df\n",
    "        \n",
    "def interaction_features(df: pd.DataFrame):\n",
    "    df['energia_hour_sin'] = df['lag_Energia'] * df['hour_sin']\n",
    "    return df\n",
    "    \n",
    "def lags_features(df: pd.DataFrame):\n",
    "    df.sort_values(['fechaHora'], inplace=True)\n",
    "    # Primary lag features (using 28-day window)\n",
    "    df['lag_PrecEuro'] = df.groupby('Codigo')['PrecEuro'].shift(24*28)\n",
    "    df['lag_Energia'] = df.groupby('Codigo')['Energia'].shift(24*28)\n",
    "    df['lag_Energia'] = np.log(df['lag_Energia'] + 1)\n",
    "    df['lag1_Energia'] = df.groupby('Codigo')['lag_Energia'].shift(1)\n",
    "    df['lag24_Energia'] = df.groupby('Codigo')['lag_Energia'].shift(24)\n",
    "    \n",
    "    # Additional lag features at different windows:\n",
    "    df['lag_7d_Energia'] = df.groupby('Codigo')['Energia'].shift(24*7)\n",
    "    df['lag_14d_Energia'] = df.groupby('Codigo')['Energia'].shift(24*14)\n",
    "    df['lag_7d_PrecEuro'] = df.groupby('Codigo')['PrecEuro'].shift(24*7)\n",
    "    df['lag_14d_PrecEuro'] = df.groupby('Codigo')['PrecEuro'].shift(24*14)\n",
    "    \n",
    "    # Rolling statistics to smooth out noise:\n",
    "    # 7-day rolling statistics for Energia\n",
    "    df['rolling_mean_7d_Energia'] = df.groupby('Codigo')['Energia']\\\n",
    "        .transform(lambda x: x.rolling(window=24*7, min_periods=1).mean())\n",
    "    df['rolling_std_7d_Energia'] = df.groupby('Codigo')['Energia']\\\n",
    "        .transform(lambda x: x.rolling(window=24*7, min_periods=1).std())\n",
    "    df['rolling_q75_7d_Energia'] = df.groupby('Codigo')['Energia']\\\n",
    "        .transform(lambda x: x.rolling(window=24*7, min_periods=1).quantile(0.75))\n",
    "    \n",
    "    # 28-day rolling statistics for Energia\n",
    "    df['rolling_mean_28d_Energia'] = df.groupby('Codigo')['Energia']\\\n",
    "        .transform(lambda x: x.rolling(window=24*28, min_periods=1).mean())\n",
    "    df['rolling_std_28d_Energia'] = df.groupby('Codigo')['Energia']\\\n",
    "        .transform(lambda x: x.rolling(window=24*28, min_periods=1).std())\n",
    "    \n",
    "    return df"
   ]
  },
  {
   "cell_type": "code",
   "execution_count": 6,
   "metadata": {},
   "outputs": [],
   "source": [
    "def feature_engineering(data: pd.DataFrame):\n",
    "    # Create a stationary version of Energia via differencing\n",
    "    data['Energia_stationary'] = data['Energia'].diff()\n",
    "    data = lags_features(data)\n",
    "    data = time_features(data)\n",
    "    data = cyclical_features(data)\n",
    "    data = interaction_features(data)\n",
    "    data = data.sort_values(['fechaHora', 'Codigo'])\n",
    "    return data"
   ]
  },
  {
   "cell_type": "markdown",
   "metadata": {},
   "source": [
    "### Feature Transformation Functions"
   ]
  },
  {
   "cell_type": "code",
   "execution_count": 7,
   "metadata": {},
   "outputs": [],
   "source": [
    "def agg_features(df: pd.DataFrame):\n",
    "    df['cum_energy'] = df.groupby(['Codigo', 'date'])['lag_Energia'].cumsum()\n",
    "    return df\n",
    "\n",
    "def rolling_mean_features(df: pd.DataFrame):\n",
    "    features = ['lag_Energia', 'lag_PrecEuro']\n",
    "    groups = ['Codigo', 'Categoria']\n",
    "    times = [12, 24, 48, 168]\n",
    "    for group in groups:\n",
    "        for feature in features:\n",
    "            for time in times:\n",
    "                df[f'roll{time}_mean_{feature}'] = df.groupby(group)[feature] \\\n",
    "                    .transform(lambda x: x.rolling(window=time, min_periods=1).mean())\n",
    "    return df\n",
    "\n",
    "def ewm_features(df: pd.DataFrame):\n",
    "    features = ['lag_Energia', 'lag_PrecEuro']\n",
    "    groups = ['Codigo', 'Categoria']\n",
    "    spans = [12, 24, 48, 168]\n",
    "    for group in groups:\n",
    "        for feature in features:\n",
    "            for span in spans:\n",
    "                df[f'ewm{span}_mean_{feature}'] = df.groupby(group)[feature] \\\n",
    "                    .transform(lambda x: x.ewm(span=span, min_periods=1).mean())\n",
    "    return df\n",
    "\n",
    "def diff_features(df: pd.DataFrame):\n",
    "    features = ['lag_Energia', 'lag_PrecEuro']\n",
    "    for feature in features:\n",
    "        df[f'diff_{feature}'] = df.groupby('Codigo')[feature].diff()\n",
    "        df[f'diff_{feature}'] = df.groupby(['Codigo'])[f'diff_{feature}'].transform(lambda x: x.fillna(x.mean()))\n",
    "    return df\n",
    "\n",
    "def volatility_features(df: pd.DataFrame):\n",
    "    features = ['lag_Energia', 'lag_PrecEuro']\n",
    "    groups = ['Codigo', 'Categoria']\n",
    "    windows = [12, 24, 48, 168]\n",
    "    for group in groups:\n",
    "        for feature in features:\n",
    "            for window in windows:\n",
    "                df[f'volatility_{window}_{feature}'] = df.groupby(group)[feature] \\\n",
    "                    .transform(lambda x: x.rolling(window=window, min_periods=1).std())\n",
    "                df[f'volatility_{window}_{feature}'] = df.groupby(['Codigo'])[f'volatility_{window}_{feature}'].transform(lambda x: x.fillna(x.mean()))\n",
    "\n",
    "    return df\n",
    "\n",
    "def fourrier_features(df: pd.DataFrame):    \n",
    "    def apply_fft(group):\n",
    "            X = fft.fft(group['lag_Energia'])\n",
    "            N = len(X)\n",
    "            group['lag_Energia_fft'] = np.abs(X) / N  # Normalize by length\n",
    "            return group\n",
    "\n",
    "    df = df.groupby('Codigo', group_keys=False).apply(apply_fft)\n",
    "    return df\n",
    "\n",
    "def frequency_power_features(df: pd.DataFrame):\n",
    "    df['power_spectrum'] = df.groupby('Codigo')['lag_Energia'].transform(lambda x: np.abs(fft.fft(x))**2 / len(x))\n",
    "    return df"
   ]
  },
  {
   "cell_type": "code",
   "execution_count": 8,
   "metadata": {},
   "outputs": [],
   "source": [
    "def feature_transformation(x_train):\n",
    "    x_train = agg_features(x_train)\n",
    "    x_train = rolling_mean_features(x_train)\n",
    "    x_train = ewm_features(x_train)\n",
    "    x_train = diff_features(x_train)\n",
    "    x_train = volatility_features(x_train)\n",
    "    x_train = fourrier_features(x_train)\n",
    "    x_train = frequency_power_features(x_train)\n",
    "    x_train['zero_indicator'] = (x_train['lag_Energia'] == 0).astype(int)\n",
    "    return x_train"
   ]
  },
  {
   "cell_type": "markdown",
   "metadata": {},
   "source": [
    "### Prepare Training & Forecast Data"
   ]
  },
  {
   "cell_type": "code",
   "execution_count": 9,
   "metadata": {},
   "outputs": [],
   "source": [
    "def prepare_training_data(df: pd.DataFrame) -> pd.DataFrame:\n",
    "    \"\"\"\n",
    "    Applies the complete feature engineering pipeline to the training data.\n",
    "    \"\"\"\n",
    "    df_fe = feature_engineering(df.copy())\n",
    "    df_fe = feature_transformation(df_fe)\n",
    "    return df_fe\n",
    "\n",
    "def prepare_forecast_data(df_history: pd.DataFrame, forecast_start: pd.Timestamp, forecast_end: pd.Timestamp) -> pd.DataFrame:\n",
    "    forecast_index = pd.date_range(start=forecast_start, end=forecast_end, freq='H')\n",
    "    codigos = df_history['Codigo'].unique()\n",
    "    forecast_df = pd.DataFrame([{'fechaHora': ts, 'Codigo': codigo} for codigo in codigos for ts in forecast_index])\n",
    "    forecast_df = forecast_df.merge(df_unit_list, on='Codigo', how='left')\n",
    "    forecast_df = forecast_df.merge(df_filtered_cat, on='Codigo', how='left')\n",
    "    combined_df = pd.concat([df_history.copy(), forecast_df], sort=False).reset_index(drop=True)\n",
    "    combined_df = feature_engineering(combined_df)\n",
    "    forecast_features = combined_df[combined_df['fechaHora'] >= forecast_start].copy()\n",
    "    return forecast_features\n"
   ]
  },
  {
   "cell_type": "markdown",
   "metadata": {},
   "source": [
    "### Forecast Boudaries"
   ]
  },
  {
   "cell_type": "code",
   "execution_count": 10,
   "metadata": {},
   "outputs": [
    {
     "name": "stderr",
     "output_type": "stream",
     "text": [
      "/var/folders/p1/vj5nk3dj08nbdgjg1lst8k_w0000gn/T/ipykernel_82451/3883808718.py:54: DeprecationWarning: DataFrameGroupBy.apply operated on the grouping columns. This behavior is deprecated, and in a future version of pandas the grouping columns will be excluded from the operation. Either pass `include_groups=False` to exclude the groupings or explicitly select the grouping columns after groupby to silence this warning.\n",
      "  df = df.groupby('Codigo', group_keys=False).apply(apply_fft)\n"
     ]
    }
   ],
   "source": [
    "forecast_start = pd.Timestamp('2024-06-01 23:00:00')\n",
    "forecast_end   = pd.Timestamp('2024-06-29 23:00:00')\n",
    "\n",
    "# Convert 'fechaHora' to datetime\n",
    "merged_df['fechaHora'] = pd.to_datetime(merged_df['fechaHora'])\n",
    "\n",
    "# Use only data before forecast_start for training\n",
    "train_df = merged_df[merged_df['fechaHora'] < forecast_start].copy()\n",
    "train_df = prepare_training_data(train_df)"
   ]
  },
  {
   "cell_type": "markdown",
   "metadata": {},
   "source": [
    "### Winsorizing"
   ]
  },
  {
   "cell_type": "code",
   "execution_count": 11,
   "metadata": {},
   "outputs": [],
   "source": [
    "def winsorize_column(df, column, multiplier=0.0001):\n",
    "    \"\"\"\n",
    "    Clips the values of ⁠ column ⁠ in df to be within [Q1 - multiplier*IQR, Q3 + multiplier*IQR].\n",
    "    \"\"\"\n",
    "    q1 = df[column].quantile(0.25)\n",
    "    q3 = df[column].quantile(0.75)\n",
    "    iqr = q3 - q1\n",
    "    lower_bound = q1 - multiplier * iqr\n",
    "    upper_bound = q3 + multiplier * iqr\n",
    "    df[column] = df[column].clip(lower_bound, upper_bound)\n",
    "    return df\n",
    "\n",
    "train_df = winsorize_column(train_df, 'Energia_stationary')"
   ]
  },
  {
   "cell_type": "markdown",
   "metadata": {},
   "source": [
    "### Define Feature Lists & Target"
   ]
  },
  {
   "cell_type": "code",
   "execution_count": 12,
   "metadata": {},
   "outputs": [],
   "source": [
    "categorical_features = ['Codigo'] + [col for col in ['Categoria', 'Tipo_Unidad', 'Zona/Frontera', 'Tecnología', 'Agente'] if col in train_df.columns]\n",
    "\n",
    "EXCLUDED_COLS = ['fechaHora', 'date', 'Energia', 'PrecEuro', 'Energia_stationary']\n",
    "# Get numerical features from the feature-engineered training data\n",
    "numerical_features = [col for col in train_df.select_dtypes(include=[np.number]).columns if col not in EXCLUDED_COLS]\n",
    "metadata_features = [col for col in ['agent_frequency', 'avg_propiedad_by_agent'] if col in train_df.columns]\n",
    "\n",
    "# Final feature list and target definition\n",
    "feature_cols = categorical_features + numerical_features + metadata_features\n",
    "target_col = 'Energia_stationary'\n",
    "\n",
    "# Convert categorical features to type 'category'\n",
    "for col in categorical_features:\n",
    "    if col in train_df.columns:\n",
    "        train_df[col] = train_df[col].astype('category')\n",
    "\n",
    "# Drop rows with missing target values\n",
    "train_df = train_df.dropna(subset=[target_col])\n",
    "\n",
    "# Create Zero Indicator Feature\n",
    "train_df['zero_indicator'] = (train_df['lag_Energia'] == 0).astype(int)\n",
    "if 'zero_indicator' not in feature_cols:\n",
    "    feature_cols.append('zero_indicator')\n",
    "\n",
    "# Drop rows with NaN values in 'Energia_stationary'\n",
    "train_df = train_df.dropna(subset=['Energia_stationary'])\n",
    "\n",
    "# Split into features and target\n",
    "X = train_df[feature_cols]\n",
    "y = train_df[target_col]"
   ]
  },
  {
   "cell_type": "code",
   "execution_count": 13,
   "metadata": {},
   "outputs": [
    {
     "name": "stdout",
     "output_type": "stream",
     "text": [
      "Total training samples: 703247\n"
     ]
    }
   ],
   "source": [
    "print(f\"Total training samples: {X.shape[0]}\")"
   ]
  },
  {
   "cell_type": "markdown",
   "metadata": {},
   "source": [
    "### Rolling Window Cross-Validation"
   ]
  },
  {
   "cell_type": "code",
   "execution_count": 14,
   "metadata": {},
   "outputs": [],
   "source": [
    "def custom_rolling_window_cv(data: pd.DataFrame, initial_train_window: int, forecast_horizon: int, step: int):\n",
    "    \"\"\"\n",
    "    Custom rolling window cross-validation.\n",
    "    \"\"\"\n",
    "    n = len(data)\n",
    "    train_end = initial_train_window  \n",
    "    while (train_end + forecast_horizon) <= n:\n",
    "        train_idx = list(range(0, train_end))\n",
    "        test_idx = list(range(train_end, train_end + forecast_horizon))\n",
    "        yield train_idx, test_idx\n",
    "        train_end += step\n",
    "        \n",
    "nunique_codes = X['Codigo'].nunique()\n",
    "\n",
    "INITIAL_TRAIN_WINDOW = 24*28*nunique_codes\n",
    "FORECAST_HORIZON = 24*28*nunique_codes\n",
    "STEP = 24*7*nunique_codes"
   ]
  },
  {
   "cell_type": "markdown",
   "metadata": {},
   "source": [
    "### Metrics Functions"
   ]
  },
  {
   "cell_type": "code",
   "execution_count": 15,
   "metadata": {},
   "outputs": [],
   "source": [
    "epsilon = 0.001\n",
    "def adjusted_mape(y_true, y_pred, epsilon=0.001):\n",
    "    \"\"\"Adjusted MAPE: adds epsilon to avoid division by zero.\"\"\"\n",
    "    return np.mean(np.abs(y_true - y_pred) / (np.abs(y_true) + epsilon))\n",
    "\n",
    "def mape_eval(preds, dtrain):\n",
    "    \"\"\"Custom evaluation metric: MAPE.\"\"\"\n",
    "    labels = dtrain.get_label()\n",
    "    epsilon = 1e-6\n",
    "    mape = np.mean(np.abs(preds - labels) / (np.abs(labels) + epsilon))\n",
    "    return 'mape', mape"
   ]
  },
  {
   "cell_type": "markdown",
   "metadata": {},
   "source": [
    "### Hyperparameters"
   ]
  },
  {
   "cell_type": "code",
   "execution_count": 16,
   "metadata": {},
   "outputs": [],
   "source": [
    "params_lgb = {\n",
    "    'metric': 'mae',\n",
    "    'learning_rate': 0.04139126441377782,\n",
    "    'num_leaves': 59,\n",
    "    'max_depth': 7,\n",
    "    'min_data_in_leaf': 26,\n",
    "    'feature_fraction': 0.9999701887398744,\n",
    "    'bagging_fraction': 0.6553188710984839,\n",
    "    'bagging_freq': 6,\n",
    "    'lambda_l1': 0.1,\n",
    "    'lambda_l2': 0.1,\n",
    "    'verbose': -1,\n",
    "    'seed': 42\n",
    "}\n",
    "\n",
    "params_xgb = {\n",
    "    'objective': 'reg:squarederror',\n",
    "    'learning_rate': 0.08996762182053374,\n",
    "    'max_depth': 12,\n",
    "    'min_child_weight': 15,\n",
    "    'subsample': 0.9311934043147285,\n",
    "    'colsample_bytree': 0.9207112604165268,\n",
    "    'gamma': 0.05492341594511156,\n",
    "    'reg_alpha': 1.8601319939498554e-06,\n",
    "    'reg_lambda': 1.0612755474577377e-08,\n",
    "    'seed': 42,\n",
    "    'verbosity': 1\n",
    "}"
   ]
  },
  {
   "cell_type": "markdown",
   "metadata": {},
   "source": [
    "### Asymmetric Loss Function"
   ]
  },
  {
   "cell_type": "code",
   "execution_count": 17,
   "metadata": {},
   "outputs": [],
   "source": [
    "def asymmetric_mape_obj(preds, dtrain):\n",
    "    \"\"\"\n",
    "    Custom objective function that uses a squared percentage error,\n",
    "    weighted asymmetrically based on the sign of the error.\n",
    "    Loss: L = c * ((pred - label) / (label + epsilon))^2\n",
    "    where c = a if (pred - label) >= 0, else c = b.\n",
    "    \"\"\"\n",
    "    labels = dtrain.get_label()\n",
    "    epsilon = 1e-6\n",
    "    # Set weights for asymmetry:\n",
    "    a = 1.5  # weight when overpredicting\n",
    "    b = 1.0  # weight when underpredicting\n",
    "    diff = preds - labels\n",
    "    c = np.where(diff >= 0, a, b)\n",
    "    denom = labels + epsilon\n",
    "    grad = 2 * c * diff / (denom**2)\n",
    "    hess = 2 * c / (denom**2)\n",
    "    return grad, hess\n",
    "\n",
    "def asymmetric_mape_obj_lgb(preds, train_data):\n",
    "    \"\"\"\n",
    "    Custom objective function for LightGBM that uses a squared percentage error,\n",
    "    weighted asymmetrically based on the sign of the error.\n",
    "    Loss: L = c * ((pred - label) / (label + epsilon))^2\n",
    "    where c = a if (pred - label) >= 0, else c = b.\n",
    "    \"\"\"\n",
    "    labels = train_data.get_label()\n",
    "    epsilon = 1e-6\n",
    "    # Set weights for asymmetry:\n",
    "    a = 1.5  # weight when overpredicting\n",
    "    b = 1.0  # weight when underpredicting\n",
    "    diff = preds - labels\n",
    "    c = np.where(diff >= 0, a, b)\n",
    "    \n",
    "    min_label = 0.1  # adjust based on your data distribution\n",
    "    safe_labels = np.maximum(labels, min_label)\n",
    "    denom = safe_labels + epsilon\n",
    "\n",
    "    # denom = labels + epsilon\n",
    "    \n",
    "    \n",
    "    grad = 2 * c * diff / (denom**2)\n",
    "    hess = 2 * c / (denom**2)\n",
    "    return grad, hess"
   ]
  },
  {
   "cell_type": "markdown",
   "metadata": {},
   "source": [
    "### AVG Energia per Categoria"
   ]
  },
  {
   "cell_type": "code",
   "execution_count": 18,
   "metadata": {},
   "outputs": [
    {
     "data": {
      "image/png": "[encoded data removed]",
      "text/plain": [
       "<Figure size 1200x600 with 1 Axes>"
      ]
     },
     "metadata": {},
     "output_type": "display_data"
    }
   ],
   "source": [
    "\n",
    "eolica_merged = merged_df[merged_df['Categoria'] == 'Solar']\n",
    "\n",
    "avg_energia_per_hour = eolica_merged.groupby(eolica_merged['fechaHora'].dt.hour)['Energia'].mean()\n",
    "\n",
    "# Plot the result\n",
    "plt.figure(figsize=(12, 6))\n",
    "avg_energia_per_hour.plot()\n",
    "plt.title('Average Energia Per Hour')\n",
    "plt.xlabel('Hour')\n",
    "plt.ylabel('Average Energia')\n",
    "plt.grid(True)\n",
    "plt.show()"
   ]
  },
  {
   "cell_type": "markdown",
   "metadata": {},
   "source": [
    "### Cross-Validation "
   ]
  },
  {
   "cell_type": "code",
   "execution_count": 19,
   "metadata": {},
   "outputs": [
    {
     "name": "stdout",
     "output_type": "stream",
     "text": [
      "Training until validation scores don't improve for 50 rounds\n",
      "Early stopping, best iteration is:\n",
      "[9]\ttraining's l1: 4.67121\tvalid_1's l1: 4.96345\n",
      "\n",
      "--------------------------------------------\n",
      "Fold 0: Ensemble MAE = 5.0392, Ensemble MAPE = 0.8165\n",
      "\n",
      "Training until validation scores don't improve for 50 rounds\n",
      "Early stopping, best iteration is:\n",
      "[8]\ttraining's l1: 4.73567\tvalid_1's l1: 4.96958\n",
      "\n",
      "--------------------------------------------\n",
      "Fold 1: Ensemble MAE = 5.0214, Ensemble MAPE = 0.8239\n",
      "\n",
      "Training until validation scores don't improve for 50 rounds\n",
      "Early stopping, best iteration is:\n",
      "[6]\ttraining's l1: 4.7996\tvalid_1's l1: 4.98217\n",
      "\n",
      "--------------------------------------------\n",
      "Fold 2: Ensemble MAE = 5.0131, Ensemble MAPE = 0.8287\n",
      "\n",
      "Training until validation scores don't improve for 50 rounds\n",
      "Early stopping, best iteration is:\n",
      "[7]\ttraining's l1: 4.79795\tvalid_1's l1: 4.97392\n",
      "\n",
      "--------------------------------------------\n",
      "Fold 3: Ensemble MAE = 5.0196, Ensemble MAPE = 0.8339\n",
      "\n",
      "Training until validation scores don't improve for 50 rounds\n",
      "Early stopping, best iteration is:\n",
      "[6]\ttraining's l1: 4.83704\tvalid_1's l1: 4.85399\n",
      "\n",
      "--------------------------------------------\n",
      "Fold 4: Ensemble MAE = 4.8892, Ensemble MAPE = 0.8362\n",
      "\n",
      "Training until validation scores don't improve for 50 rounds\n",
      "Early stopping, best iteration is:\n",
      "[5]\ttraining's l1: 4.85109\tvalid_1's l1: 4.78716\n",
      "\n",
      "--------------------------------------------\n",
      "Fold 5: Ensemble MAE = 4.8180, Ensemble MAPE = 0.8354\n",
      "\n",
      "--------------------------------------------\n",
      "\n",
      "Average Ensemble MAE  across folds: 4.9668\n",
      "--------------------------------------------\n",
      "\n",
      "Average Ensemble MAPE across folds: 0.8291\n"
     ]
    }
   ],
   "source": [
    "mae_scores = []\n",
    "mape_scores = []\n",
    "\n",
    "for fold, (train_index, val_index) in enumerate(custom_rolling_window_cv(X, INITIAL_TRAIN_WINDOW, FORECAST_HORIZON, STEP)):\n",
    "    X_tr = X.iloc[train_index]\n",
    "    y_tr = y.iloc[train_index]\n",
    "    X_val_fold = X.iloc[val_index]\n",
    "    y_val_fold = y.iloc[val_index]\n",
    "            \n",
    "    # ----- Train LightGBM -----\n",
    "    lgb_train = lgb.Dataset(X_tr, label=y_tr, categorical_feature=categorical_features + ['zero_indicator'])\n",
    "    lgb_val = lgb.Dataset(X_val_fold, label=y_val_fold, categorical_feature=categorical_features + ['zero_indicator'])\n",
    "    \n",
    "    params_lgb['objective'] = asymmetric_mape_obj_lgb\n",
    "    \n",
    "    model_lgb = lgb.train(\n",
    "        params_lgb,\n",
    "        lgb_train,\n",
    "        num_boost_round=1000,\n",
    "        valid_sets=[lgb_train, lgb_val],\n",
    "        callbacks=[lgb.early_stopping(stopping_rounds=50)]\n",
    "    )\n",
    "    \n",
    "    y_pred_lgb = model_lgb.predict(X_val_fold, num_iteration=model_lgb.best_iteration)\n",
    "    \n",
    "    # ----- Train XGBoost with custom asymmetric loss -----\n",
    "    dtrain = xgb.DMatrix(X_tr, label=y_tr, enable_categorical=True)\n",
    "    dval = xgb.DMatrix(X_val_fold, label=y_val_fold, enable_categorical=True)\n",
    "    watchlist = [(dtrain, 'train'), (dval, 'eval')]\n",
    "    \n",
    "    model_xgb = xgb.train(\n",
    "        params_xgb,\n",
    "        dtrain,\n",
    "        num_boost_round=1000,\n",
    "        evals=watchlist,\n",
    "        early_stopping_rounds=50,\n",
    "        verbose_eval=False,\n",
    "        obj=asymmetric_mape_obj,\n",
    "        custom_metric=mape_eval\n",
    "    )\n",
    "    \n",
    "    dX_val = xgb.DMatrix(X_val_fold, enable_categorical=True)\n",
    "    if hasattr(model_xgb, 'best_iteration'):\n",
    "        y_pred_xgb = model_xgb.predict(dX_val, iteration_range=(0, model_xgb.best_iteration + 1))\n",
    "    else:\n",
    "        y_pred_xgb = model_xgb.predict(dX_val)\n",
    "    \n",
    "    # ----- Ensemble Predictions (Simple Average) -----\n",
    "    y_pred_ensemble = (y_pred_lgb + y_pred_xgb) / 2.0\n",
    "    \n",
    "    # Clip predictions using a floor and ceiling to reduce extreme errors:\n",
    "    floor_value = 0  # Energy supply cannot be negative.\n",
    "    ceiling_solar = 453.3\n",
    "    ceiling_wind = 453.3 \n",
    "\n",
    "    # Clip predictions for Solar category\n",
    "    solar_mask = (X_val_fold['Categoria'] == 'Solar')\n",
    "    y_pred_ensemble_clipped = y_pred_ensemble.copy()\n",
    "    y_pred_ensemble_clipped[solar_mask] = np.clip(y_pred_ensemble[solar_mask], floor_value, ceiling_solar)\n",
    "\n",
    "    # Clip predictions for Wind category\n",
    "    wind_mask = (X_val_fold['Categoria'] == 'Eolica')\n",
    "    y_pred_ensemble_clipped[wind_mask] = np.clip(y_pred_ensemble[wind_mask], floor_value, ceiling_wind)\n",
    "    \n",
    "    # Adjust predictions\n",
    "    solar_mask = (X_val_fold['Categoria'] == 'Solar') & ((X_val_fold['hour'] >= 1) | (X_val_fold['hour'] < 6))\n",
    "    y_pred_ensemble_clipped[solar_mask] = 0\n",
    "    \n",
    "    wind_mask = (X_val_fold['Categoria'] == 'Eolica') & ((X_val_fold['hour'] >=00) | (X_val_fold['hour'] < 6))\n",
    "    y_pred_ensemble_clipped[wind_mask] = 0\n",
    "    \n",
    "    fold_mae = mean_absolute_error(y_val_fold, y_pred_ensemble_clipped)\n",
    "    fold_mape = adjusted_mape(y_val_fold, y_pred_ensemble_clipped)\n",
    "    print(\"\\n--------------------------------------------\")\n",
    "    print(f\"Fold {fold}: Ensemble MAE = {fold_mae:.4f}, Ensemble MAPE = {fold_mape:.4f}\\n\")\n",
    "    \n",
    "    mae_scores.append(fold_mae)\n",
    "    mape_scores.append(fold_mape)\n",
    "    fold += 1\n",
    "\n",
    "avg_mae = np.mean(mae_scores)\n",
    "avg_mape = np.mean(mape_scores)\n",
    "\n",
    "print(\"--------------------------------------------\")\n",
    "print(f\"\\nAverage Ensemble MAE  across folds: {avg_mae:.4f}\")\n",
    "print(\"--------------------------------------------\")\n",
    "print(f\"\\nAverage Ensemble MAPE across folds: {avg_mape:.4f}\")"
   ]
  },
  {
   "cell_type": "markdown",
   "metadata": {},
   "source": [
    "### Forecast"
   ]
  },
  {
   "cell_type": "code",
   "execution_count": 20,
   "metadata": {},
   "outputs": [
    {
     "name": "stderr",
     "output_type": "stream",
     "text": [
      "/var/folders/p1/vj5nk3dj08nbdgjg1lst8k_w0000gn/T/ipykernel_82451/1655613367.py:10: FutureWarning: 'H' is deprecated and will be removed in a future version, please use 'h' instead.\n",
      "  forecast_index = pd.date_range(start=forecast_start, end=forecast_end, freq='H')\n"
     ]
    }
   ],
   "source": [
    "FORECAST_START = pd.Timestamp('2024-06-01 23:00:00')\n",
    "FORECAST_END = pd.Timestamp('2024-06-29 23:00:00')\n",
    "\n",
    "forecast_df = prepare_forecast_data(train_df, FORECAST_START, FORECAST_END)"
   ]
  },
  {
   "cell_type": "markdown",
   "metadata": {},
   "source": [
    "### Train our models on the train set. "
   ]
  },
  {
   "cell_type": "code",
   "execution_count": 21,
   "metadata": {},
   "outputs": [],
   "source": [
    "lgb_train_full = lgb.Dataset(X, label=y, categorical_feature=categorical_features + ['zero_indicator'])\n",
    "\n",
    "final_model_lgb = lgb.train(\n",
    "    params_lgb,\n",
    "    lgb_train_full,\n",
    "    num_boost_round=1000\n",
    ")\n"
   ]
  },
  {
   "cell_type": "code",
   "execution_count": 22,
   "metadata": {},
   "outputs": [],
   "source": [
    "dtrain_full = xgb.DMatrix(X, label=y, enable_categorical=True)\n",
    "\n",
    "final_model_xgb = xgb.train(\n",
    "    params_xgb,\n",
    "    dtrain_full,\n",
    "    num_boost_round=1000,\n",
    "    verbose_eval=False,\n",
    "    obj=asymmetric_mape_obj,\n",
    "    custom_metric=mape_eval\n",
    ")"
   ]
  },
  {
   "cell_type": "code",
   "execution_count": 23,
   "metadata": {},
   "outputs": [],
   "source": [
    "for col in categorical_features:\n",
    "    if col in forecast_df.columns and col in X.columns:\n",
    "        forecast_df[col] = forecast_df[col].astype('category')\n",
    "        forecast_df[col] = forecast_df[col].cat.set_categories(X[col].cat.categories)\n",
    "\n",
    "X_forecast = forecast_df[feature_cols].copy()"
   ]
  },
  {
   "cell_type": "code",
   "execution_count": 24,
   "metadata": {},
   "outputs": [],
   "source": [
    "y_pred_lgb_forecast = final_model_lgb.predict(X_forecast, num_iteration=final_model_lgb.best_iteration)\n",
    "dforecast = xgb.DMatrix(X_forecast, enable_categorical=True)\n",
    "if hasattr(final_model_xgb, 'best_iteration'):\n",
    "    \n",
    "    y_pred_xgb_forecast = final_model_xgb.predict(dforecast, iteration_range=(0, final_model_xgb.best_iteration + 1))\n",
    "else:\n",
    "    y_pred_xgb_forecast = final_model_xgb.predict(dforecast)\n",
    "\n",
    "y_pred_ensemble_forecast = (y_pred_lgb_forecast + y_pred_xgb_forecast) / 2.0\n"
   ]
  },
  {
   "cell_type": "code",
   "execution_count": 25,
   "metadata": {},
   "outputs": [
    {
     "name": "stderr",
     "output_type": "stream",
     "text": [
      "/var/folders/p1/vj5nk3dj08nbdgjg1lst8k_w0000gn/T/ipykernel_82451/1323449911.py:3: FutureWarning: The default of observed=False is deprecated and will be changed to True in a future version of pandas. Pass observed=False to retain current behavior or observed=True to adopt the future default and silence this warning.\n",
      "  baseline = train_df.groupby('Codigo')['Energia'].last()\n"
     ]
    }
   ],
   "source": [
    "# Invert Differenced Predictions\n",
    "\n",
    "baseline = train_df.groupby('Codigo')['Energia'].last()\n",
    "\n",
    "X_forecast = X_forecast.copy() \n",
    "forecast_df = forecast_df.copy()\n",
    "forecast_df[\"Energia_stationary_pred\"] = y_pred_ensemble_forecast"
   ]
  },
  {
   "cell_type": "code",
   "execution_count": 26,
   "metadata": {},
   "outputs": [],
   "source": [
    "def invert_differenced_predictions(df, baseline_series):\n",
    "    df = df.sort_values(['Codigo', 'fechaHora']).copy()\n",
    "    inverted_frames = []\n",
    "    for code, group in df.groupby('Codigo'):\n",
    "        base_val = baseline_series.loc[code]\n",
    "\n",
    "        group = group.sort_values('fechaHora').copy()\n",
    "        group[\"Energia\"] = group[\"Energia_stationary_pred\"].cumsum() + base_val\n",
    "        inverted_frames.append(group)\n",
    "    return pd.concat(inverted_frames, ignore_index=True)\n"
   ]
  },
  {
   "cell_type": "code",
   "execution_count": 27,
   "metadata": {},
   "outputs": [
    {
     "name": "stderr",
     "output_type": "stream",
     "text": [
      "/var/folders/p1/vj5nk3dj08nbdgjg1lst8k_w0000gn/T/ipykernel_82451/4085508915.py:4: FutureWarning: The default of observed=False is deprecated and will be changed to True in a future version of pandas. Pass observed=False to retain current behavior or observed=True to adopt the future default and silence this warning.\n",
      "  for code, group in df.groupby('Codigo'):\n"
     ]
    }
   ],
   "source": [
    "forecast_inverted = invert_differenced_predictions(forecast_df, baseline)"
   ]
  },
  {
   "cell_type": "code",
   "execution_count": null,
   "metadata": {},
   "outputs": [],
   "source": [
    "# ---- Post-Processing: Clip and Adjust Predictions ----\n",
    "\n",
    "floor_value = 0\n",
    "ceiling_solar = 453.3\n",
    "ceiling_wind = 453.3\n",
    "\n",
    "solar_mask = (forecast_inverted['Categoria'] == 'Solar')\n",
    "wind_mask = (forecast_inverted['Categoria'] == 'Eolica')\n",
    "forecast_inverted.loc[solar_mask, 'Energia'] = np.clip(forecast_inverted.loc[solar_mask, 'Energia'], floor_value, ceiling_solar)\n",
    "forecast_inverted.loc[wind_mask, 'Energia'] = np.clip(forecast_inverted.loc[wind_mask, 'Energia'], floor_value, ceiling_wind)\n",
    "\n",
    "solar_time_mask = (forecast_inverted['Categoria'] == 'Solar') & ((forecast_inverted['hour'] >= 1) & (forecast_inverted['hour'] < 6))\n",
    "forecast_inverted.loc[solar_time_mask, 'Energia'] = 0\n",
    "wind_time_mask = (forecast_inverted['Categoria'] == 'Eolica') & ((forecast_inverted['hour'] >= 0) & (forecast_inverted['hour'] < 6))\n",
    "forecast_inverted.loc[wind_time_mask, 'Energia'] = 0\n"
   ]
  },
  {
   "cell_type": "code",
   "execution_count": 29,
   "metadata": {},
   "outputs": [
    {
     "name": "stdout",
     "output_type": "stream",
     "text": [
      "Final Forecast Output Sample:\n",
      "    Codigo           fechaHora  Energia\n",
      "0  ADXVD03 2024-06-01 23:00:00      0.0\n",
      "1  ADXVD03 2024-06-02 00:00:00      0.0\n",
      "2  ADXVD03 2024-06-02 01:00:00      0.0\n",
      "3  ADXVD03 2024-06-02 02:00:00      0.0\n",
      "4  ADXVD03 2024-06-02 03:00:00      0.0\n"
     ]
    }
   ],
   "source": [
    "final_forecast_output = forecast_inverted[['Codigo', 'fechaHora', 'Energia']].copy()\n",
    "final_forecast_output = final_forecast_output.sort_values(['Codigo', 'fechaHora'])\n",
    "\n",
    "print(\"Final Forecast Output Sample:\")\n",
    "print(final_forecast_output.head())\n",
    "\n",
    "# Save the final forecast output to a CSV file\n",
    "final_forecast_output.to_csv(\"Challenge1_404TeamNotFound.csv\", index=False)\n"
   ]
  }
 ],
 "metadata": {
  "kernelspec": {
   "display_name": "ai_env",
   "language": "python",
   "name": "python3"
  },
  "language_info": {
   "codemirror_mode": {
    "name": "ipython",
    "version": 3
   },
   "file_extension": ".py",
   "mimetype": "text/x-python",
   "name": "python",
   "nbconvert_exporter": "python",
   "pygments_lexer": "ipython3",
   "version": "3.11.8"
  }
 },
 "nbformat": 4,
 "nbformat_minor": 2
}
