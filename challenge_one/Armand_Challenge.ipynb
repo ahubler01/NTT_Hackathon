{
 "cells": [
  {
   "cell_type": "markdown",
   "id": "9af2304b",
   "metadata": {},
   "source": [
    "# **Team Name : 404 Team Not Found**\n",
    "\n",
    "####    Members : Armand Hubler, Anthony-Lee Sanchez, Aswin Subramanian Maheswaran, Daniel Rosel and Marco Celati"
   ]
  },
  {
   "cell_type": "markdown",
   "id": "bd7bdbbb",
   "metadata": {},
   "source": [
    "## Challenge 1\n",
    "\n",
    "+ Forecast hourly energy offers for each of the power plant.\n",
    "\n",
    "+ Your forecasts will cover the period from June 1, 2024, at 23:00 to June 29, 2024, at 23:00.\n",
    "\n",
    "+ Evaluated using Mean Absolute Percentage Error (MAPE) and Mean Absolute Error (MAE), calculated for each plant’s time series and then averaged across all plants."
   ]
  },
  {
   "cell_type": "markdown",
   "id": "04030da5",
   "metadata": {},
   "source": [
    "####    Output Format:\n",
    "\n",
    "Produce a CSV file with three columns:\n",
    "\n",
    "+ Codigo (plant identifier)\n",
    "\n",
    "+ fechaHora (timestamp)\n",
    "\n",
    "+ Energia (forecasted energy offer)"
   ]
  },
  {
   "cell_type": "code",
   "execution_count": 358,
   "id": "ee881223",
   "metadata": {},
   "outputs": [
    {
     "name": "stdout",
     "output_type": "stream",
     "text": [
      "Requirement already satisfied: lightgbm in /opt/anaconda3/envs/ai_env/lib/python3.11/site-packages (4.6.0)\n",
      "Requirement already satisfied: xgboost in /opt/anaconda3/envs/ai_env/lib/python3.11/site-packages (2.1.1)\n",
      "Requirement already satisfied: scikit-learn in /opt/anaconda3/envs/ai_env/lib/python3.11/site-packages (1.5.2)\n",
      "Requirement already satisfied: numpy>=1.17.0 in /opt/anaconda3/envs/ai_env/lib/python3.11/site-packages (from lightgbm) (1.26.4)\n",
      "Requirement already satisfied: scipy in /opt/anaconda3/envs/ai_env/lib/python3.11/site-packages (from lightgbm) (1.15.1)\n",
      "Requirement already satisfied: joblib>=1.2.0 in /opt/anaconda3/envs/ai_env/lib/python3.11/site-packages (from scikit-learn) (1.4.2)\n",
      "Requirement already satisfied: threadpoolctl>=3.1.0 in /opt/anaconda3/envs/ai_env/lib/python3.11/site-packages (from scikit-learn) (3.5.0)\n",
      "Note: you may need to restart the kernel to use updated packages.\n"
     ]
    }
   ],
   "source": [
    "%pip install lightgbm xgboost scikit-learn"
   ]
  },
  {
   "cell_type": "code",
   "execution_count": 359,
   "id": "d8754269",
   "metadata": {},
   "outputs": [],
   "source": [
    "# Importing the necessary libraries\n",
    "\n",
    "import os\n",
    "import pandas as pd\n",
    "import matplotlib.pyplot as plt\n",
    "import numpy as np\n",
    "import seaborn as sns\n",
    "import lightgbm as lgb\n",
    "from lightgbm import early_stopping\n",
    "from sklearn.model_selection import train_test_split\n",
    "from sklearn.model_selection import TimeSeriesSplit\n",
    "from sklearn.metrics import mean_absolute_error, mean_absolute_percentage_error\n",
    "from sklearn.linear_model import ElasticNetCV\n",
    "from numpy import fft\n",
    "from sklearn.preprocessing import OrdinalEncoder, FunctionTransformer\n",
    "\n"
   ]
  },
  {
   "cell_type": "code",
   "execution_count": 360,
   "id": "78c210d9",
   "metadata": {},
   "outputs": [],
   "source": [
    "# Load the data\n",
    "\n",
    "## This file contains historical data from around March to May 2024.\n",
    "\n",
    "df_omie_labelled = pd.read_csv('../data/df_omie_labelled(in).csv')\n",
    "\n",
    "# ---------------------\n",
    "\n",
    "## Contains information on the technology type (Wind or Solar) for each plant, \n",
    "## which may be useful for grouping. \n",
    "\n",
    "df_filtered_cat = pd.read_csv('../data/filtered_categories(in).csv')\n",
    "\n",
    "# ---------------------\n",
    "## Additional information about generation units that you can use if needed.\n",
    "\n",
    "df_unit_list = pd.read_csv('../data/unit_list(in).csv')"
   ]
  },
  {
   "cell_type": "code",
   "execution_count": 361,
   "id": "c7204473",
   "metadata": {},
   "outputs": [
    {
     "name": "stdout",
     "output_type": "stream",
     "text": [
      "\n",
      "Date Range: (Timestamp('2024-02-29 00:00:00'), Timestamp('2024-06-01 22:00:00'))\n"
     ]
    }
   ],
   "source": [
    "# 1. Converting the fechaHora to datetime\n",
    "\n",
    "df_omie_labelled[\"fechaHora\"] = pd.to_datetime(df_omie_labelled[\"fechaHora\"])\n",
    "\n",
    "date_range = df_omie_labelled[\"fechaHora\"].min(), df_omie_labelled[\"fechaHora\"].max()\n",
    "print()\n",
    "print(\"Date Range:\", date_range)\n",
    "\n",
    "# df_omie_labelled[\"date\"] = df_omie_labelled[\"fechaHora\"].dt.date\n",
    "# df_omie_labelled[\"hour\"] = df_omie_labelled[\"fechaHora\"].dt.hour\n",
    "# df_omie_labelled[\"week\"] = df_omie_labelled[\"fechaHora\"].dt.isocalendar().week"
   ]
  },
  {
   "cell_type": "code",
   "execution_count": 362,
   "id": "3d73ac3c",
   "metadata": {},
   "outputs": [
    {
     "data": {
      "image/png": "[encoded data removed]",
      "text/plain": [
       "<Figure size 1200x800 with 2 Axes>"
      ]
     },
     "metadata": {},
     "output_type": "display_data"
    }
   ],
   "source": [
    "# 2. Correlation matrix \n",
    "\n",
    "numerical_cols = df_omie_labelled.select_dtypes(include=[np.number]).columns\n",
    "\n",
    "corr_matrix = df_omie_labelled[numerical_cols].corr()\n",
    "\n",
    "plt.figure(figsize=(12, 8))\n",
    "sns.heatmap(corr_matrix, annot=True, cmap=\"coolwarm\", fmt=\".2f\", linewidths=.5)\n",
    "plt.title(\"Correlation Matrix\")\n",
    "plt.show()\n"
   ]
  },
  {
   "cell_type": "markdown",
   "id": "18c818a0",
   "metadata": {},
   "source": [
    "## Feature Engineering"
   ]
  },
  {
   "cell_type": "code",
   "execution_count": 363,
   "id": "37a876d8",
   "metadata": {},
   "outputs": [],
   "source": [
    "merged_df = df_omie_labelled.merge(df_unit_list, on='Codigo', how='left')\n",
    "merged_df = merged_df.merge(df_filtered_cat, on='Codigo', how='left')\n",
    "codes = df_filtered_cat['Codigo'].unique()\n",
    "merged_df = merged_df[merged_df['Codigo'].isin(codes)]"
   ]
  },
  {
   "cell_type": "code",
   "execution_count": 364,
   "id": "5bd352bc",
   "metadata": {},
   "outputs": [
    {
     "data": {
      "text/plain": [
       "703248"
      ]
     },
     "execution_count": 364,
     "metadata": {},
     "output_type": "execute_result"
    }
   ],
   "source": [
    "len(merged_df)"
   ]
  },
  {
   "cell_type": "code",
   "execution_count": 365,
   "id": "be5e4d1a",
   "metadata": {},
   "outputs": [],
   "source": [
    "def time_features(df: pd.DataFrame):\n",
    "    df['fechaHora'] = pd.to_datetime(df['fechaHora'])\n",
    "    df['date'] = df['fechaHora'].dt.date\n",
    "    df['hour'] = df['fechaHora'].dt.hour\n",
    "    df['day_of_week'] = df['fechaHora'].dt.dayofweek  # Monday=0, Sunday=6\n",
    "    df['month'] = df['fechaHora'].dt.month\n",
    "    df['day_of_month'] = df['fechaHora'].dt.day\n",
    "    df['is_weekend'] = df['day_of_week'].isin([5, 6]).astype(int)\n",
    "    df.sort_values(['fechaHora', 'Codigo'], inplace=True)\n",
    "    df['t'] = (df['fechaHora'] - df['fechaHora'].min()).dt.total_seconds() / 3600\n",
    "    \n",
    "    def sin_cos_features(df: pd.DataFrame, period, K, time_col='t'):\n",
    "        df = df.sort_values(['Codigo', 'fechaHora'])\n",
    "        for k in range(1, K + 1):\n",
    "            df[f'sin_{period}_{k}'] = np.sin(2 * np.pi * k * df[time_col] / period)\n",
    "            df[f'cos_{period}_{k}'] = np.cos(2 * np.pi * k * df[time_col] / period)\n",
    "        return df\n",
    "    \n",
    "    df = sin_cos_features(df, period=24, K=3)\n",
    "    \n",
    "    return df    \n",
    "\n",
    "def cyclical_features(df: pd.DataFrame):\n",
    "    df['hour_sin'] = np.sin(2 * np.pi * df['hour'] / 24)\n",
    "    df['hour_cos'] = np.cos(2 * np.pi * df['hour'] / 24)\n",
    "    df['dow_sin'] = np.sin(2 * np.pi * df['day_of_week'] / 7)\n",
    "    df['dow_cos'] = np.cos(2 * np.pi * df['day_of_week'] / 7)\n",
    "    return df\n",
    "        \n",
    "def interaction_features(df: pd.DataFrame):\n",
    "    df['energia_hour_sin'] = df['lag_Energia'] * df['hour_sin']\n",
    "    return df\n",
    "    \n",
    "def lags_features(df: pd.DataFrame):\n",
    "    df.sort_values(['fechaHora'], inplace=True)\n",
    "    df['lag_PrecEuro'] = df.groupby('Codigo')['PrecEuro'].shift(24*28)\n",
    "    df['lag_Energia'] = df.groupby('Codigo')['Energia'].shift(24*28)\n",
    "    df['lag_Energia'] = np.log(df['lag_Energia'] + 1)\n",
    "    df['lag1_Energia'] = df.groupby('Codigo')['lag_Energia'].shift(1)\n",
    "    df['lag24_Energia'] = df.groupby('Codigo')['lag_Energia'].shift(24)\n",
    "    return df"
   ]
  },
  {
   "cell_type": "code",
   "execution_count": 366,
   "id": "00932e26",
   "metadata": {},
   "outputs": [],
   "source": [
    "def feature_engineering(data: pd.DataFrame):\n",
    "    data['Energia_stationary'] = data['Energia'].diff()\n",
    "    data = lags_features(data)\n",
    "    data = time_features(data)\n",
    "    data = cyclical_features(data)\n",
    "    data = interaction_features(data)\n",
    "    data = data.sort_values(['fechaHora', 'Codigo'])\n",
    "    return data"
   ]
  },
  {
   "cell_type": "code",
   "execution_count": 367,
   "id": "01d57b5c",
   "metadata": {},
   "outputs": [],
   "source": [
    "merged_df = feature_engineering(merged_df)"
   ]
  },
  {
   "cell_type": "code",
   "execution_count": 368,
   "id": "d9f23b3c",
   "metadata": {},
   "outputs": [],
   "source": [
    "def agg_features(df: pd.DataFrame):\n",
    "    df['cum_energy'] = df.groupby(['Codigo', 'fechaHora'])['lag_Energia'].cumsum()\n",
    "    return df\n",
    "\n",
    "def rolling_mean_features(df: pd.DataFrame):\n",
    "    features = ['lag_Energia', 'lag_PrecEuro']\n",
    "    groups = ['Codigo', 'Categoria']\n",
    "    times = [12, 24, 48, 168]\n",
    "    for group in groups:\n",
    "        for feature in features:\n",
    "            for time in times:\n",
    "                df[f'roll{time}_mean_{feature}'] = df.groupby(group)[feature] \\\n",
    "                    .transform(lambda x: x.rolling(window=time, min_periods=1).mean())\n",
    "    return df\n",
    "\n",
    "def ewm_features(df: pd.DataFrame):\n",
    "    features = ['lag_Energia', 'lag_PrecEuro']\n",
    "    groups = ['Codigo', 'Categoria']\n",
    "    spans = [12, 24, 48, 168]\n",
    "    for group in groups:\n",
    "        for feature in features:\n",
    "            for span in spans:\n",
    "                df[f'ewm{span}_mean_{feature}'] = df.groupby(group)[feature] \\\n",
    "                    .transform(lambda x: x.ewm(span=span, min_periods=1).mean())\n",
    "    return df\n",
    "\n",
    "def diff_features(df: pd.DataFrame):\n",
    "    features = ['lag_Energia', 'lag_PrecEuro']\n",
    "    for feature in features:\n",
    "        df[f'diff_{feature}'] = df.groupby('Codigo')[feature].diff()\n",
    "        df[f'diff_{feature}'] = df.groupby(['Codigo'])[f'diff_{feature}'].transform(lambda x: x.fillna(x.mean()))\n",
    "    return df\n",
    "\n",
    "def volatility_features(df: pd.DataFrame):\n",
    "    features = ['lag_Energia', 'lag_PrecEuro']\n",
    "    groups = ['Codigo', 'Categoria']\n",
    "    windows = [12, 24, 48, 168]\n",
    "    for group in groups:\n",
    "        for feature in features:\n",
    "            for window in windows:\n",
    "                df[f'volatility_{window}_{feature}'] = df.groupby(group)[feature] \\\n",
    "                    .transform(lambda x: x.rolling(window=window, min_periods=1).std())\n",
    "                df[f'volatility_{window}_{feature}'] = df.groupby(['Codigo'])[f'volatility_{window}_{feature}'].transform(lambda x: x.fillna(x.mean()))\n",
    "\n",
    "    return df\n",
    "\n",
    "def fourrier_features(df: pd.DataFrame):    \n",
    "    def apply_fft(group):\n",
    "            X = fft.fft(group['lag_Energia'])\n",
    "            N = len(X)\n",
    "            group['lag_Energia_fft'] = np.abs(X) / N  # Normalize by length\n",
    "            return group\n",
    "\n",
    "    df = df.groupby('Codigo', group_keys=False).apply(apply_fft)\n",
    "    return df\n",
    "\n",
    "def frequency_power_features(df: pd.DataFrame):\n",
    "    df['power_spectrum'] = df.groupby('Codigo')['lag_Energia'].transform(lambda x: np.abs(fft.fft(x))**2 / len(x))\n",
    "    return df"
   ]
  },
  {
   "cell_type": "code",
   "execution_count": 369,
   "id": "6ebf5603",
   "metadata": {},
   "outputs": [],
   "source": [
    "def feature_transformation(x_train):\n",
    "    # x_train = agg_features(x_train)\n",
    "    x_train = rolling_mean_features(x_train)\n",
    "    x_train = ewm_features(x_train)\n",
    "    x_train = diff_features(x_train)\n",
    "    x_train = volatility_features(x_train)\n",
    "    x_train = fourrier_features(x_train)\n",
    "    x_train = frequency_power_features(x_train)\n",
    "    x_train['zero_indicator'] = (x_train['lag_Energia'] == 0).astype(int)\n",
    "    return x_train"
   ]
  },
  {
   "cell_type": "code",
   "execution_count": 370,
   "id": "1da7eaf6",
   "metadata": {},
   "outputs": [
    {
     "name": "stdout",
     "output_type": "stream",
     "text": [
      "Descripción             299782\n",
      "Agente                  299782\n",
      "Porcentaje_Propiedad    299782\n",
      "Tipo_Unidad             299782\n",
      "Zona/Frontera           299782\n",
      "Tecnología              299782\n",
      "lag_PrecEuro            209664\n",
      "lag_Energia             209664\n",
      "lag1_Energia            209976\n",
      "lag24_Energia           217152\n",
      "energia_hour_sin        209664\n",
      "dtype: int64\n"
     ]
    }
   ],
   "source": [
    "nan_counts = merged_df.isna().sum()\n",
    "nan_counts = nan_counts[nan_counts > 1]\n",
    "print(nan_counts)"
   ]
  },
  {
   "cell_type": "markdown",
   "id": "f134fcba",
   "metadata": {},
   "source": [
    "## Modelling\n"
   ]
  },
  {
   "cell_type": "code",
   "execution_count": 371,
   "id": "0dfa9e16",
   "metadata": {},
   "outputs": [],
   "source": [
    "# forecast period boundaries\n",
    "\n",
    "forecast_start = pd.Timestamp('2024-06-01 23:00:00')\n",
    "forecast_end   = pd.Timestamp('2024-06-29 23:00:00')\n",
    "\n",
    "\n",
    "# Training data: all data before the forecast_start\n",
    "\n",
    "train_df = merged_df[merged_df['fechaHora'] < forecast_start].copy()\n"
   ]
  },
  {
   "cell_type": "code",
   "execution_count": 372,
   "id": "e70c4f6b",
   "metadata": {},
   "outputs": [],
   "source": [
    "# Define features: categorical, numerical, and metadata features\n",
    "\n",
    "categorical_features = ['Codigo'] + [col for col in ['Categoria', 'Tipo_Unidad', 'Zona/Frontera', 'Tecnología', 'Agente'] if col in train_df.columns]\n",
    "\n",
    "EXCLUDED_COLS = ['Energia', 'PrecEuro', 'Energia_stationary']\n",
    "numerical_features = [col for col in merged_df.select_dtypes(include=[np.number]).columns if col not in EXCLUDED_COLS]\n",
    "\n",
    "metadata_features = [col for col in ['agent_frequency', 'avg_propiedad_by_agent'] if col in train_df.columns]\n",
    "\n",
    "# Final feature list and target definition\n",
    "\n",
    "feature_cols = categorical_features + numerical_features + metadata_features\n",
    "target_col = 'Energia_stationary'\n",
    "\n",
    "# Convert categorical features to 'category' dtype\n",
    "\n",
    "for col in categorical_features:\n",
    "    if col in train_df.columns:\n",
    "        train_df[col] = train_df[col].astype('category')\n",
    "\n",
    "if not np.issubdtype(train_df['fechaHora'].dtype, np.datetime64):\n",
    "    train_df['fechaHora'] = pd.to_datetime(train_df['fechaHora'])\n",
    "\n",
    "train_df = train_df.dropna(subset=[target_col])\n"
   ]
  },
  {
   "cell_type": "code",
   "execution_count": 373,
   "id": "f6199869",
   "metadata": {},
   "outputs": [
    {
     "name": "stdout",
     "output_type": "stream",
     "text": [
      "Total training samples: 703247\n"
     ]
    }
   ],
   "source": [
    "# --------------- Create Zero Indicator Feature ------------------\n",
    "\n",
    "# A zero indicator feature is added to help the model differentiate between zero and non-zero regimes.\n",
    "\n",
    "train_df['zero_indicator'] = (train_df['lag_Energia'] == 0).astype(int)\n",
    "if 'zero_indicator' not in feature_cols:\n",
    "    feature_cols.append('zero_indicator')\n",
    "\n",
    "# Split data into features and target\n",
    "\n",
    "X = train_df[feature_cols]\n",
    "y = train_df[target_col]\n",
    "\n",
    "print(f\"Total training samples: {X.shape[0]}\")\n"
   ]
  },
  {
   "cell_type": "code",
   "execution_count": 374,
   "id": "ca724df7",
   "metadata": {},
   "outputs": [
    {
     "name": "stdout",
     "output_type": "stream",
     "text": [
      "<class 'pandas.core.frame.DataFrame'>\n",
      "Index: 703247 entries, 1 to 712263\n",
      "Data columns (total 29 columns):\n",
      " #   Column                Non-Null Count   Dtype   \n",
      "---  ------                --------------   -----   \n",
      " 0   Codigo                703247 non-null  category\n",
      " 1   Categoria             703247 non-null  category\n",
      " 2   Tipo_Unidad           403465 non-null  category\n",
      " 3   Zona/Frontera         403465 non-null  category\n",
      " 4   Tecnología            403465 non-null  category\n",
      " 5   Agente                403465 non-null  category\n",
      " 6   Porcentaje_Propiedad  403465 non-null  float64 \n",
      " 7   lag_PrecEuro          493584 non-null  float64 \n",
      " 8   lag_Energia           493584 non-null  float64 \n",
      " 9   lag1_Energia          493272 non-null  float64 \n",
      " 10  lag24_Energia         486096 non-null  float64 \n",
      " 11  hour                  703247 non-null  int32   \n",
      " 12  day_of_week           703247 non-null  int32   \n",
      " 13  month                 703247 non-null  int32   \n",
      " 14  day_of_month          703247 non-null  int32   \n",
      " 15  is_weekend            703247 non-null  int64   \n",
      " 16  t                     703247 non-null  float64 \n",
      " 17  sin_24_1              703247 non-null  float64 \n",
      " 18  cos_24_1              703247 non-null  float64 \n",
      " 19  sin_24_2              703247 non-null  float64 \n",
      " 20  cos_24_2              703247 non-null  float64 \n",
      " 21  sin_24_3              703247 non-null  float64 \n",
      " 22  cos_24_3              703247 non-null  float64 \n",
      " 23  hour_sin              703247 non-null  float64 \n",
      " 24  hour_cos              703247 non-null  float64 \n",
      " 25  dow_sin               703247 non-null  float64 \n",
      " 26  dow_cos               703247 non-null  float64 \n",
      " 27  energia_hour_sin      493584 non-null  float64 \n",
      " 28  zero_indicator        703247 non-null  int64   \n",
      "dtypes: category(6), float64(17), int32(4), int64(2)\n",
      "memory usage: 122.7 MB\n"
     ]
    }
   ],
   "source": [
    "X.info()"
   ]
  },
  {
   "cell_type": "code",
   "execution_count": 375,
   "id": "db8089a8",
   "metadata": {},
   "outputs": [
    {
     "ename": "SyntaxError",
     "evalue": "'break' outside loop (668683560.py, line 1)",
     "output_type": "error",
     "traceback": [
      "\u001b[0;36m  Cell \u001b[0;32mIn[375], line 1\u001b[0;36m\u001b[0m\n\u001b[0;31m    break\u001b[0m\n\u001b[0m    ^\u001b[0m\n\u001b[0;31mSyntaxError\u001b[0m\u001b[0;31m:\u001b[0m 'break' outside loop\n"
     ]
    }
   ],
   "source": [
    "break"
   ]
  },
  {
   "cell_type": "code",
   "execution_count": null,
   "id": "cc84ba1d",
   "metadata": {},
   "outputs": [],
   "source": [
    "# TimeSeriesSplit with 5 splits, a test set of 24*30 (720 hours, i.e. 30 days), and a gap of 24 hours\n",
    "num_codigos = train_df['Codigo'].nunique()\n",
    "tss = TimeSeriesSplit(n_splits=3, test_size=24 * 28 * num_codigos, gap=24)\n",
    "\n",
    "epsilon = 0.001\n",
    "\n",
    "def adjusted_mape(y_true, y_pred, epsilon=epsilon):\n",
    "    \"\"\"Adjusted MAPE: adds epsilon to denominator to avoid division by zero.\"\"\"\n",
    "    return np.mean(np.abs(y_true - y_pred) / (np.abs(y_true) + epsilon))\n",
    "\n",
    "# Best hyperparameters from Bayesian optimization (plus our regularization)\n",
    "\n",
    "params_lgb = {\n",
    "    # 'objective': 'tweedie',\n",
    "    # 'tweedie_variance_power': 1.5,\n",
    "    'metric': 'mae',\n",
    "    'learning_rate': 0.04139126441377782,\n",
    "    'num_leaves': 59,\n",
    "    'max_depth': 7,\n",
    "    'min_data_in_leaf': 26,\n",
    "    'feature_fraction': 0.9999701887398744,\n",
    "    'bagging_fraction': 0.6553188710984839,\n",
    "    'bagging_freq': 6,\n",
    "    'lambda_l1': 0.1,\n",
    "    'lambda_l2': 0.1,\n",
    "    'verbose': -1,\n",
    "    'seed': 42\n",
    "}\n",
    "\n",
    "mae_scores = []\n",
    "mape_scores = []\n",
    "fold = 1\n"
   ]
  },
  {
   "cell_type": "markdown",
   "id": "a0780ab4",
   "metadata": {},
   "source": [
    "####    Hyperparameter Tuning + LightGBM\n",
    "\n",
    "+ Bayesian Optimization with Optuna to tune LightGBM’s hyperparameters using time-series cross-validation. \n",
    "\n",
    "+ Set up a search space for several key LightGBM hyperparameters (learning rate, num_leaves, max_depth, etc.).\n",
    "\n",
    "+ We create an Optuna study in minimization mode and run 50 trials to find the best set of hyperparameters. After the study, we print out the best metrics and the corresponding hyperparameters.\n"
   ]
  },
  {
   "cell_type": "code",
   "execution_count": null,
   "id": "1a838fe0",
   "metadata": {},
   "outputs": [],
   "source": [
    "import torch\n",
    "import torch.nn as nn\n",
    "import torch.optim as optim"
   ]
  },
  {
   "cell_type": "code",
   "execution_count": null,
   "id": "59e7f414",
   "metadata": {},
   "outputs": [],
   "source": [
    "tfm = timesfm.TimesFm(\n",
    "      hparams=timesfm.TimesFmHparams(\n",
    "          backend=\"gpu\",\n",
    "          per_core_batch_size=32,\n",
    "          horizon_len=128,\n",
    "          num_layers=50,\n",
    "          use_positional_embedding=False,\n",
    "          context_len=2048,\n",
    "      ),\n",
    "      checkpoint=timesfm.TimesFmCheckpoint(\n",
    "          huggingface_repo_id=\"google/timesfm-2.0-500m-pytorch\"),\n",
    "  )"
   ]
  },
  {
   "cell_type": "code",
   "execution_count": null,
   "id": "585c2c7f",
   "metadata": {},
   "outputs": [],
   "source": [
    "class TimesFMModel(nn.Module):\n",
    "    def __init__(self, input_dim, hidden_dim, output_dim):\n",
    "        super(TimesFMModel, self).__init__()\n",
    "        self.fc1 = nn.Linear(input_dim, hidden_dim)\n",
    "        self.relu = nn.ReLU()\n",
    "        self.fc2 = nn.Linear(hidden_dim, output_dim)\n",
    "    \n",
    "    def forward(self, x):\n",
    "        out = self.fc1(x)\n",
    "        out = self.relu(out)\n",
    "        out = self.fc2(out)\n",
    "        return out"
   ]
  },
  {
   "cell_type": "code",
   "execution_count": null,
   "id": "2826d8df",
   "metadata": {},
   "outputs": [],
   "source": [
    "TIMESFM_MODEL_PARAMS = {\n",
    "    'hidden_dim': 100,\n",
    "    'output_dim': 1,\n",
    "}\n",
    "\n",
    "TIMESFM_TRAIN_PARAMS = {\n",
    "    'lr': 0.01,\n",
    "}\n"
   ]
  },
  {
   "cell_type": "code",
   "execution_count": null,
   "id": "a200ad7c",
   "metadata": {},
   "outputs": [],
   "source": [
    "def train_timesfm(\n",
    "    X_train_tensor: torch.Tensor, \n",
    "    y_train_tensor: torch.Tensor,\n",
    "    TIMESFM_MODEL_PARAMS: dict,\n",
    "    TIMESFM_TRAIN_PARAMS: dict,\n",
    "    epochs: int = 150\n",
    "    ) -> TimesFMModel:\n",
    "\n",
    "    timesfm_model = TimesFMModel(input_dim=X_train_tensor.shape[1], **TIMESFM_MODEL_PARAMS)\n",
    "    criterion = nn.MSELoss()\n",
    "    optimizer = optim.Adam(timesfm_model.parameters(), **TIMESFM_TRAIN_PARAMS)\n",
    "    \n",
    "    # Train the model.\n",
    "    timesfm_model.train()\n",
    "    for epoch in range(epochs):\n",
    "        optimizer.zero_grad()\n",
    "        outputs = timesfm_model(X_train_tensor)\n",
    "        loss = criterion(outputs, y_train_tensor)\n",
    "        loss.backward()\n",
    "        optimizer.step()\n",
    "        \n",
    "    return timesfm_model\n",
    "    \n",
    "def evaluate_timesfm(timesfm_model: TimesFMModel, X_test_tensor: torch.Tensor) -> np.ndarray:\n",
    "    timesfm_model.eval()\n",
    "    with torch.no_grad():\n",
    "        y_pred_timesfm = timesfm_model(X_test_tensor).numpy().flatten()\n",
    "        \n",
    "    return y_pred_timesfm"
   ]
  },
  {
   "cell_type": "code",
   "execution_count": null,
   "id": "e3ece1d6",
   "metadata": {},
   "outputs": [],
   "source": [
    "def prepare_timesfm(X_train: pd.DataFrame, y_train: pd.Series, X_test: pd.DataFrame) -> tuple:\n",
    "    if isinstance(X_train, pd.DataFrame):\n",
    "        X_train_tensor = torch.tensor(X_train.values, dtype=torch.float32)\n",
    "        y_train_tensor = torch.tensor(y_train.values, dtype=torch.float32).view(-1, 1)\n",
    "        X_test_tensor = torch.tensor(X_test.values, dtype=torch.float32)\n",
    "    elif isinstance(X_train, np.ndarray):\n",
    "        X_train_tensor = torch.tensor(X_train, dtype=torch.float32)\n",
    "        y_train_tensor = torch.tensor(y_train.values, dtype=torch.float32).view(-1, 1)\n",
    "        X_test_tensor = torch.tensor(X_test, dtype=torch.float32)\n",
    "    return X_train_tensor, y_train_tensor, X_test_tensor"
   ]
  },
  {
   "cell_type": "code",
   "execution_count": null,
   "id": "9d0983c9",
   "metadata": {},
   "outputs": [],
   "source": [
    "from sklearn.base import BaseEstimator, TransformerMixin\n",
    "\n",
    "class OrdinalEncodingTransformer(BaseEstimator, TransformerMixin):\n",
    "    def __init__(self):\n",
    "        # Initialize the encoder with any desired options.\n",
    "        self.encoder = OrdinalEncoder(handle_unknown='use_encoded_value', unknown_value=-1)\n",
    "        self.cat_cols = None\n",
    "\n",
    "    def fit(self, X: pd.DataFrame, y=None):\n",
    "        # Identify categorical columns (dtype object) in the training data.\n",
    "        self.cat_cols = X.select_dtypes(include=['object']).columns\n",
    "        # Fit the encoder on the categorical columns.\n",
    "        self.encoder.fit(X[self.cat_cols])\n",
    "        return self\n",
    "\n",
    "    def transform(self, X: pd.DataFrame) -> pd.DataFrame:\n",
    "        X_transformed = X.copy()\n",
    "        if self.cat_cols is not None:\n",
    "            X_transformed[self.cat_cols] = self.encoder.transform(X_transformed[self.cat_cols])\n",
    "        return X_transformed"
   ]
  },
  {
   "cell_type": "code",
   "execution_count": null,
   "id": "fb505bb1",
   "metadata": {},
   "outputs": [],
   "source": [
    "def custom_rolling_window_cv(data: pd.DataFrame, initial_train_window: int, forecast_horizon: int, step: int):\n",
    "    \"\"\"\n",
    "    Custom rolling window cross-validation.\n",
    "    \"\"\"\n",
    "    n = len(data)\n",
    "    train_end = initial_train_window  \n",
    "    while (train_end + forecast_horizon) <= n:\n",
    "        train_idx = list(range(0, train_end))\n",
    "        test_idx = list(range(train_end, train_end + forecast_horizon))\n",
    "        yield train_idx, test_idx\n",
    "        train_end += step\n",
    "        \n",
    "nunique_codes = X['Codigo'].nunique()\n",
    "INITIAL_TRAIN_WINDOW = 24*28*nunique_codes\n",
    "FORECAST_HORIZON = 24*28*nunique_codes\n",
    "STEP = 24*7*nunique_codes"
   ]
  },
  {
   "cell_type": "code",
   "execution_count": null,
   "id": "ae98e657",
   "metadata": {},
   "outputs": [
    {
     "name": "stdout",
     "output_type": "stream",
     "text": [
      "<class 'pandas.core.frame.DataFrame'>\n",
      "Index: 703247 entries, 1 to 712263\n",
      "Data columns (total 29 columns):\n",
      " #   Column                Non-Null Count   Dtype   \n",
      "---  ------                --------------   -----   \n",
      " 0   Codigo                703247 non-null  category\n",
      " 1   Categoria             703247 non-null  category\n",
      " 2   Tipo_Unidad           403465 non-null  category\n",
      " 3   Zona/Frontera         403465 non-null  category\n",
      " 4   Tecnología            403465 non-null  category\n",
      " 5   Agente                403465 non-null  category\n",
      " 6   Porcentaje_Propiedad  403465 non-null  float64 \n",
      " 7   lag_PrecEuro          493584 non-null  float64 \n",
      " 8   lag_Energia           493584 non-null  float64 \n",
      " 9   lag1_Energia          493272 non-null  float64 \n",
      " 10  lag24_Energia         486096 non-null  float64 \n",
      " 11  hour                  703247 non-null  int32   \n",
      " 12  day_of_week           703247 non-null  int32   \n",
      " 13  month                 703247 non-null  int32   \n",
      " 14  day_of_month          703247 non-null  int32   \n",
      " 15  is_weekend            703247 non-null  int64   \n",
      " 16  t                     703247 non-null  float64 \n",
      " 17  sin_24_1              703247 non-null  float64 \n",
      " 18  cos_24_1              703247 non-null  float64 \n",
      " 19  sin_24_2              703247 non-null  float64 \n",
      " 20  cos_24_2              703247 non-null  float64 \n",
      " 21  sin_24_3              703247 non-null  float64 \n",
      " 22  cos_24_3              703247 non-null  float64 \n",
      " 23  hour_sin              703247 non-null  float64 \n",
      " 24  hour_cos              703247 non-null  float64 \n",
      " 25  dow_sin               703247 non-null  float64 \n",
      " 26  dow_cos               703247 non-null  float64 \n",
      " 27  energia_hour_sin      493584 non-null  float64 \n",
      " 28  zero_indicator        703247 non-null  int64   \n",
      "dtypes: category(6), float64(17), int32(4), int64(2)\n",
      "memory usage: 122.7 MB\n"
     ]
    }
   ],
   "source": [
    "X.info()"
   ]
  },
  {
   "cell_type": "code",
   "execution_count": null,
   "id": "5fbaa3dd",
   "metadata": {},
   "outputs": [
    {
     "name": "stdout",
     "output_type": "stream",
     "text": [
      "Training until validation scores don't improve for 50 rounds\n",
      "Early stopping, best iteration is:\n",
      "[29]\ttraining's l1: 29.5328\tvalid_1's l1: 34.5524\n",
      "Fold 0: MAE = 34.5524, MAPE = 683.6160\n",
      "Training until validation scores don't improve for 50 rounds\n",
      "Early stopping, best iteration is:\n",
      "[606]\ttraining's l1: 12.5628\tvalid_1's l1: 31.191\n",
      "Fold 1: MAE = 31.1910, MAPE = 1077.1581\n",
      "Training until validation scores don't improve for 50 rounds\n"
     ]
    },
    {
     "ename": "KeyboardInterrupt",
     "evalue": "",
     "output_type": "error",
     "traceback": [
      "\u001b[0;31m---------------------------------------------------------------------------\u001b[0m",
      "\u001b[0;31mKeyboardInterrupt\u001b[0m                         Traceback (most recent call last)",
      "Cell \u001b[0;32mIn[357], line 22\u001b[0m\n\u001b[1;32m     19\u001b[0m lgb_train \u001b[38;5;241m=\u001b[39m lgb\u001b[38;5;241m.\u001b[39mDataset(X_tr, label\u001b[38;5;241m=\u001b[39my_tr, categorical_feature\u001b[38;5;241m=\u001b[39mcategorical_features \u001b[38;5;241m+\u001b[39m [\u001b[38;5;124m'\u001b[39m\u001b[38;5;124mzero_indicator\u001b[39m\u001b[38;5;124m'\u001b[39m])\n\u001b[1;32m     20\u001b[0m lgb_val \u001b[38;5;241m=\u001b[39m lgb\u001b[38;5;241m.\u001b[39mDataset(X_val_fold, label\u001b[38;5;241m=\u001b[39my_val_fold, categorical_feature\u001b[38;5;241m=\u001b[39mcategorical_features \u001b[38;5;241m+\u001b[39m [\u001b[38;5;124m'\u001b[39m\u001b[38;5;124mzero_indicator\u001b[39m\u001b[38;5;124m'\u001b[39m])\n\u001b[0;32m---> 22\u001b[0m model \u001b[38;5;241m=\u001b[39m \u001b[43mlgb\u001b[49m\u001b[38;5;241;43m.\u001b[39;49m\u001b[43mtrain\u001b[49m\u001b[43m(\u001b[49m\n\u001b[1;32m     23\u001b[0m \u001b[43m    \u001b[49m\u001b[43mparams_lgb\u001b[49m\u001b[43m,\u001b[49m\n\u001b[1;32m     24\u001b[0m \u001b[43m    \u001b[49m\u001b[43mlgb_train\u001b[49m\u001b[43m,\u001b[49m\n\u001b[1;32m     25\u001b[0m \u001b[43m    \u001b[49m\u001b[43mnum_boost_round\u001b[49m\u001b[38;5;241;43m=\u001b[39;49m\u001b[38;5;241;43m1000\u001b[39;49m\u001b[43m,\u001b[49m\n\u001b[1;32m     26\u001b[0m \u001b[43m    \u001b[49m\u001b[43mvalid_sets\u001b[49m\u001b[38;5;241;43m=\u001b[39;49m\u001b[43m[\u001b[49m\u001b[43mlgb_train\u001b[49m\u001b[43m,\u001b[49m\u001b[43m \u001b[49m\u001b[43mlgb_val\u001b[49m\u001b[43m]\u001b[49m\u001b[43m,\u001b[49m\n\u001b[1;32m     27\u001b[0m \u001b[43m    \u001b[49m\u001b[43mcallbacks\u001b[49m\u001b[38;5;241;43m=\u001b[39;49m\u001b[43m[\u001b[49m\u001b[43mlgb\u001b[49m\u001b[38;5;241;43m.\u001b[39;49m\u001b[43mearly_stopping\u001b[49m\u001b[43m(\u001b[49m\u001b[43mstopping_rounds\u001b[49m\u001b[38;5;241;43m=\u001b[39;49m\u001b[38;5;241;43m50\u001b[39;49m\u001b[43m)\u001b[49m\u001b[43m]\u001b[49m\n\u001b[1;32m     28\u001b[0m \u001b[43m\u001b[49m\u001b[43m)\u001b[49m\n\u001b[1;32m     30\u001b[0m y_pred_fold \u001b[38;5;241m=\u001b[39m model\u001b[38;5;241m.\u001b[39mpredict(X_val_fold, num_iteration\u001b[38;5;241m=\u001b[39mmodel\u001b[38;5;241m.\u001b[39mbest_iteration)\n\u001b[1;32m     31\u001b[0m fold_mae \u001b[38;5;241m=\u001b[39m mean_absolute_error(y_val_fold, y_pred_fold)\n",
      "File \u001b[0;32m/opt/anaconda3/envs/ai_env/lib/python3.11/site-packages/lightgbm/engine.py:307\u001b[0m, in \u001b[0;36mtrain\u001b[0;34m(params, train_set, num_boost_round, valid_sets, valid_names, feval, init_model, feature_name, categorical_feature, keep_training_booster, callbacks)\u001b[0m\n\u001b[1;32m    295\u001b[0m \u001b[38;5;28;01mfor\u001b[39;00m cb \u001b[38;5;129;01min\u001b[39;00m callbacks_before_iter:\n\u001b[1;32m    296\u001b[0m     cb(\n\u001b[1;32m    297\u001b[0m         callback\u001b[38;5;241m.\u001b[39mCallbackEnv(\n\u001b[1;32m    298\u001b[0m             model\u001b[38;5;241m=\u001b[39mbooster,\n\u001b[0;32m   (...)\u001b[0m\n\u001b[1;32m    304\u001b[0m         )\n\u001b[1;32m    305\u001b[0m     )\n\u001b[0;32m--> 307\u001b[0m \u001b[43mbooster\u001b[49m\u001b[38;5;241;43m.\u001b[39;49m\u001b[43mupdate\u001b[49m\u001b[43m(\u001b[49m\u001b[43mfobj\u001b[49m\u001b[38;5;241;43m=\u001b[39;49m\u001b[43mfobj\u001b[49m\u001b[43m)\u001b[49m\n\u001b[1;32m    309\u001b[0m evaluation_result_list: List[_LGBM_BoosterEvalMethodResultType] \u001b[38;5;241m=\u001b[39m []\n\u001b[1;32m    310\u001b[0m \u001b[38;5;66;03m# check evaluation result.\u001b[39;00m\n",
      "File \u001b[0;32m/opt/anaconda3/envs/ai_env/lib/python3.11/site-packages/lightgbm/basic.py:4136\u001b[0m, in \u001b[0;36mBooster.update\u001b[0;34m(self, train_set, fobj)\u001b[0m\n\u001b[1;32m   4133\u001b[0m \u001b[38;5;28;01mif\u001b[39;00m \u001b[38;5;28mself\u001b[39m\u001b[38;5;241m.\u001b[39m__set_objective_to_none:\n\u001b[1;32m   4134\u001b[0m     \u001b[38;5;28;01mraise\u001b[39;00m LightGBMError(\u001b[38;5;124m\"\u001b[39m\u001b[38;5;124mCannot update due to null objective function.\u001b[39m\u001b[38;5;124m\"\u001b[39m)\n\u001b[1;32m   4135\u001b[0m _safe_call(\n\u001b[0;32m-> 4136\u001b[0m     \u001b[43m_LIB\u001b[49m\u001b[38;5;241;43m.\u001b[39;49m\u001b[43mLGBM_BoosterUpdateOneIter\u001b[49m\u001b[43m(\u001b[49m\n\u001b[1;32m   4137\u001b[0m \u001b[43m        \u001b[49m\u001b[38;5;28;43mself\u001b[39;49m\u001b[38;5;241;43m.\u001b[39;49m\u001b[43m_handle\u001b[49m\u001b[43m,\u001b[49m\n\u001b[1;32m   4138\u001b[0m \u001b[43m        \u001b[49m\u001b[43mctypes\u001b[49m\u001b[38;5;241;43m.\u001b[39;49m\u001b[43mbyref\u001b[49m\u001b[43m(\u001b[49m\u001b[43mis_finished\u001b[49m\u001b[43m)\u001b[49m\u001b[43m,\u001b[49m\n\u001b[1;32m   4139\u001b[0m \u001b[43m    \u001b[49m\u001b[43m)\u001b[49m\n\u001b[1;32m   4140\u001b[0m )\n\u001b[1;32m   4141\u001b[0m \u001b[38;5;28mself\u001b[39m\u001b[38;5;241m.\u001b[39m__is_predicted_cur_iter \u001b[38;5;241m=\u001b[39m [\u001b[38;5;28;01mFalse\u001b[39;00m \u001b[38;5;28;01mfor\u001b[39;00m _ \u001b[38;5;129;01min\u001b[39;00m \u001b[38;5;28mrange\u001b[39m(\u001b[38;5;28mself\u001b[39m\u001b[38;5;241m.\u001b[39m__num_dataset)]\n\u001b[1;32m   4142\u001b[0m \u001b[38;5;28;01mreturn\u001b[39;00m is_finished\u001b[38;5;241m.\u001b[39mvalue \u001b[38;5;241m==\u001b[39m \u001b[38;5;241m1\u001b[39m\n",
      "\u001b[0;31mKeyboardInterrupt\u001b[0m: "
     ]
    }
   ],
   "source": [
    "# for train_index, val_index in tss.split(X):\n",
    "    \n",
    "for fold, (train_index, val_index) in enumerate(custom_rolling_window_cv(X, INITIAL_TRAIN_WINDOW, FORECAST_HORIZON, STEP)):\n",
    "\n",
    "    X_tr = X.iloc[train_index]\n",
    "    y_tr = y.iloc[train_index]\n",
    "    X_val_fold = X.iloc[val_index]\n",
    "    y_val_fold = y.iloc[val_index]\n",
    "    \n",
    "    # X_tr = feature_transformation(X_tr)\n",
    "    # X_val_fold = feature_transformation(X_val_fold)\n",
    "    \n",
    "    # ordinal_encoder = OrdinalEncodingTransformer()\n",
    "    # X_tr = ordinal_encoder.fit_transform(X_tr)\n",
    "    # X_val_fold = ordinal_encoder.transform(X_val_fold)\n",
    "    \n",
    "    # When constructing the LightGBM Dataset, we include both original categorical features and the zero_indicator\n",
    "    \n",
    "    lgb_train = lgb.Dataset(X_tr, label=y_tr, categorical_feature=categorical_features + ['zero_indicator'])\n",
    "    lgb_val = lgb.Dataset(X_val_fold, label=y_val_fold, categorical_feature=categorical_features + ['zero_indicator'])\n",
    "    \n",
    "    model = lgb.train(\n",
    "        params_lgb,\n",
    "        lgb_train,\n",
    "        num_boost_round=1000,\n",
    "        valid_sets=[lgb_train, lgb_val],\n",
    "        callbacks=[lgb.early_stopping(stopping_rounds=50)]\n",
    "    )\n",
    "    \n",
    "    y_pred_fold = model.predict(X_val_fold, num_iteration=model.best_iteration)\n",
    "    fold_mae = mean_absolute_error(y_val_fold, y_pred_fold)\n",
    "    fold_mape = adjusted_mape(y_val_fold, y_pred_fold)\n",
    "    print(f\"Fold {fold}: MAE = {fold_mae:.4f}, MAPE = {fold_mape:.4f}\")\n",
    "    mae_scores.append(fold_mae)\n",
    "    mape_scores.append(fold_mape)\n",
    "    \n",
    "    \n",
    "            X_train_timesfm, y_train_timesfm, X_test_timesfm = prepare_timesfm(X_train, y_train, X_test)          \n",
    "        timesfm_model = train_timesfm(X_train_timesfm, y_train_timesfm, TIMESFM_MODEL_PARAMS, TIMESFM_TRAIN_PARAMS)\n",
    "        y_pred_timesfm = evaluate_timesfm(timesfm_model, X_test_timesfm)\n",
    "        mae_timesfm = mae_score(y_test, y_pred_timesfm)\n",
    "        mape_timesfm = mape_score(y_test, y_pred_timesfm)\n",
    "        \n",
    "        results['TimesFM']['mae'].append(mae_timesfm)\n",
    "        results['TimesFM']['mape'].append(mape_timesfm)\n",
    "        \n",
    "        print(f\"TimesFM   --> MAE: {mae_timesfm:.4f}, MAPE: {mape_timesfm:.4f}\")\n",
    "    \n",
    "    \n",
    "    \n",
    "    # fold += 1\n"
   ]
  },
  {
   "cell_type": "code",
   "execution_count": null,
   "id": "e2a7a8bc",
   "metadata": {},
   "outputs": [
    {
     "name": "stdout",
     "output_type": "stream",
     "text": [
      "--------------------------------------------\n",
      "\n",
      "Average MAE  across folds: 30.8604\n",
      "--------------------------------------------\n",
      "\n",
      "Average MAPE across folds: 1376.1515\n"
     ]
    }
   ],
   "source": [
    "# The average MAE and average MAPE across all folds are computed\n",
    "\n",
    "avg_mae = np.mean(mae_scores)\n",
    "avg_mape = np.mean(mape_scores)\n",
    "\n",
    "print(\"--------------------------------------------\")\n",
    "print(f\"\\nAverage MAE  across folds: {avg_mae:.4f}\")\n",
    "print(\"--------------------------------------------\")\n",
    "print(f\"\\nAverage MAPE across folds: {avg_mape:.4f}\")\n"
   ]
  },
  {
   "cell_type": "markdown",
   "id": "09890028",
   "metadata": {},
   "source": [
    "### Error Metrics Insights \n",
    "\n",
    "+ In the Spanish electricity market challenge, where many energy offers are zero (or very low) and the target distribution is right-skewed, standard MAPE can be unstable. By adding a small constant (𝜖) to the denominator, you avoid division by zero and obtain a more stable error metric.\n",
    "\n",
    "+ This MAPE gives you insight into how well your model forecasts relative errors, while MAE tells you the average absolute error. Together, they help assess model performance across plants with very different energy outputs."
   ]
  },
  {
   "cell_type": "code",
   "execution_count": null,
   "id": "629a6050",
   "metadata": {},
   "outputs": [
    {
     "name": "stdout",
     "output_type": "stream",
     "text": [
      "Training final model on all training data...\n"
     ]
    },
    {
     "ename": "KeyboardInterrupt",
     "evalue": "",
     "output_type": "error",
     "traceback": [
      "\u001b[0;31m---------------------------------------------------------------------------\u001b[0m",
      "\u001b[0;31mKeyboardInterrupt\u001b[0m                         Traceback (most recent call last)",
      "Cell \u001b[0;32mIn[143], line 5\u001b[0m\n\u001b[1;32m      1\u001b[0m \u001b[38;5;28mprint\u001b[39m(\u001b[38;5;124m\"\u001b[39m\u001b[38;5;124mTraining final model on all training data...\u001b[39m\u001b[38;5;124m\"\u001b[39m)\n\u001b[1;32m      3\u001b[0m final_lgb_train \u001b[38;5;241m=\u001b[39m lgb\u001b[38;5;241m.\u001b[39mDataset(X, label\u001b[38;5;241m=\u001b[39my, categorical_feature\u001b[38;5;241m=\u001b[39mcategorical_features \u001b[38;5;241m+\u001b[39m [\u001b[38;5;124m'\u001b[39m\u001b[38;5;124mzero_indicator\u001b[39m\u001b[38;5;124m'\u001b[39m])\n\u001b[0;32m----> 5\u001b[0m final_model \u001b[38;5;241m=\u001b[39m \u001b[43mlgb\u001b[49m\u001b[38;5;241;43m.\u001b[39;49m\u001b[43mtrain\u001b[49m\u001b[43m(\u001b[49m\n\u001b[1;32m      6\u001b[0m \u001b[43m    \u001b[49m\u001b[43mparams_lgb\u001b[49m\u001b[43m,\u001b[49m\n\u001b[1;32m      7\u001b[0m \u001b[43m    \u001b[49m\u001b[43mfinal_lgb_train\u001b[49m\u001b[43m,\u001b[49m\n\u001b[1;32m      8\u001b[0m \u001b[43m    \u001b[49m\u001b[43mnum_boost_round\u001b[49m\u001b[38;5;241;43m=\u001b[39;49m\u001b[38;5;241;43m200\u001b[39;49m\n\u001b[1;32m      9\u001b[0m \u001b[43m)\u001b[49m\n\u001b[1;32m     10\u001b[0m \u001b[38;5;28mprint\u001b[39m(\u001b[38;5;124m\"\u001b[39m\u001b[38;5;124mFinal model training complete.\u001b[39m\u001b[38;5;124m\"\u001b[39m)\n",
      "File \u001b[0;32m/opt/anaconda3/envs/ai_env/lib/python3.11/site-packages/lightgbm/engine.py:307\u001b[0m, in \u001b[0;36mtrain\u001b[0;34m(params, train_set, num_boost_round, valid_sets, valid_names, feval, init_model, feature_name, categorical_feature, keep_training_booster, callbacks)\u001b[0m\n\u001b[1;32m    295\u001b[0m \u001b[38;5;28;01mfor\u001b[39;00m cb \u001b[38;5;129;01min\u001b[39;00m callbacks_before_iter:\n\u001b[1;32m    296\u001b[0m     cb(\n\u001b[1;32m    297\u001b[0m         callback\u001b[38;5;241m.\u001b[39mCallbackEnv(\n\u001b[1;32m    298\u001b[0m             model\u001b[38;5;241m=\u001b[39mbooster,\n\u001b[0;32m   (...)\u001b[0m\n\u001b[1;32m    304\u001b[0m         )\n\u001b[1;32m    305\u001b[0m     )\n\u001b[0;32m--> 307\u001b[0m \u001b[43mbooster\u001b[49m\u001b[38;5;241;43m.\u001b[39;49m\u001b[43mupdate\u001b[49m\u001b[43m(\u001b[49m\u001b[43mfobj\u001b[49m\u001b[38;5;241;43m=\u001b[39;49m\u001b[43mfobj\u001b[49m\u001b[43m)\u001b[49m\n\u001b[1;32m    309\u001b[0m evaluation_result_list: List[_LGBM_BoosterEvalMethodResultType] \u001b[38;5;241m=\u001b[39m []\n\u001b[1;32m    310\u001b[0m \u001b[38;5;66;03m# check evaluation result.\u001b[39;00m\n",
      "File \u001b[0;32m/opt/anaconda3/envs/ai_env/lib/python3.11/site-packages/lightgbm/basic.py:4136\u001b[0m, in \u001b[0;36mBooster.update\u001b[0;34m(self, train_set, fobj)\u001b[0m\n\u001b[1;32m   4133\u001b[0m \u001b[38;5;28;01mif\u001b[39;00m \u001b[38;5;28mself\u001b[39m\u001b[38;5;241m.\u001b[39m__set_objective_to_none:\n\u001b[1;32m   4134\u001b[0m     \u001b[38;5;28;01mraise\u001b[39;00m LightGBMError(\u001b[38;5;124m\"\u001b[39m\u001b[38;5;124mCannot update due to null objective function.\u001b[39m\u001b[38;5;124m\"\u001b[39m)\n\u001b[1;32m   4135\u001b[0m _safe_call(\n\u001b[0;32m-> 4136\u001b[0m     \u001b[43m_LIB\u001b[49m\u001b[38;5;241;43m.\u001b[39;49m\u001b[43mLGBM_BoosterUpdateOneIter\u001b[49m\u001b[43m(\u001b[49m\n\u001b[1;32m   4137\u001b[0m \u001b[43m        \u001b[49m\u001b[38;5;28;43mself\u001b[39;49m\u001b[38;5;241;43m.\u001b[39;49m\u001b[43m_handle\u001b[49m\u001b[43m,\u001b[49m\n\u001b[1;32m   4138\u001b[0m \u001b[43m        \u001b[49m\u001b[43mctypes\u001b[49m\u001b[38;5;241;43m.\u001b[39;49m\u001b[43mbyref\u001b[49m\u001b[43m(\u001b[49m\u001b[43mis_finished\u001b[49m\u001b[43m)\u001b[49m\u001b[43m,\u001b[49m\n\u001b[1;32m   4139\u001b[0m \u001b[43m    \u001b[49m\u001b[43m)\u001b[49m\n\u001b[1;32m   4140\u001b[0m )\n\u001b[1;32m   4141\u001b[0m \u001b[38;5;28mself\u001b[39m\u001b[38;5;241m.\u001b[39m__is_predicted_cur_iter \u001b[38;5;241m=\u001b[39m [\u001b[38;5;28;01mFalse\u001b[39;00m \u001b[38;5;28;01mfor\u001b[39;00m _ \u001b[38;5;129;01min\u001b[39;00m \u001b[38;5;28mrange\u001b[39m(\u001b[38;5;28mself\u001b[39m\u001b[38;5;241m.\u001b[39m__num_dataset)]\n\u001b[1;32m   4142\u001b[0m \u001b[38;5;28;01mreturn\u001b[39;00m is_finished\u001b[38;5;241m.\u001b[39mvalue \u001b[38;5;241m==\u001b[39m \u001b[38;5;241m1\u001b[39m\n",
      "\u001b[0;31mKeyboardInterrupt\u001b[0m: "
     ]
    }
   ],
   "source": [
    "print(\"Training final model on all training data...\")\n",
    "\n",
    "final_lgb_train = lgb.Dataset(X, label=y, categorical_feature=categorical_features + ['zero_indicator'])\n",
    "\n",
    "final_model = lgb.train(\n",
    "    params_lgb,\n",
    "    final_lgb_train,\n",
    "    num_boost_round=200\n",
    ")\n",
    "print(\"Final model training complete.\")"
   ]
  },
  {
   "cell_type": "code",
   "execution_count": null,
   "id": "0d30c8a0",
   "metadata": {},
   "outputs": [
    {
     "data": {
      "text/plain": [
       "Index(['Codigo', 'Descripcion', 'fechaHora', 'PrecEuro', 'Energia', 'date',\n",
       "       'hour', 'week', 'Descripción', 'Agente', 'Porcentaje_Propiedad',\n",
       "       'Tipo_Unidad', 'Zona/Frontera', 'Tecnología', 'Categoria',\n",
       "       'Energia_stationary', 'lag_PrecEuro', 'lag_Energia', 'lag1_Energia',\n",
       "       'lag24_Energia', 'day_of_week', 'month', 'day_of_month', 'is_weekend',\n",
       "       't', 'sin_24_1', 'cos_24_1', 'sin_24_2', 'cos_24_2', 'sin_24_3',\n",
       "       'cos_24_3', 'hour_sin', 'hour_cos', 'dow_sin', 'dow_cos',\n",
       "       'energia_hour_sin'],\n",
       "      dtype='object')"
      ]
     },
     "execution_count": 22,
     "metadata": {},
     "output_type": "execute_result"
    }
   ],
   "source": [
    "merged_df.columns"
   ]
  },
  {
   "cell_type": "code",
   "execution_count": null,
   "id": "03f5f64c",
   "metadata": {},
   "outputs": [
    {
     "name": "stdout",
     "output_type": "stream",
     "text": [
      "Feature importances saved to feature_importances.csv\n"
     ]
    },
    {
     "name": "stderr",
     "output_type": "stream",
     "text": [
      "/var/folders/p1/vj5nk3dj08nbdgjg1lst8k_w0000gn/T/ipykernel_10434/4165561770.py:18: FutureWarning: \n",
      "\n",
      "Passing `palette` without assigning `hue` is deprecated and will be removed in v0.14.0. Assign the `y` variable to `hue` and set `legend=False` for the same effect.\n",
      "\n",
      "  sns.barplot(data=feat_imp_df.head(20), x='importance', y='feature', palette='viridis')\n"
     ]
    },
    {
     "data": {
      "image/png": "[encoded data removed]",
      "text/plain": [
       "<Figure size 1200x800 with 1 Axes>"
      ]
     },
     "metadata": {},
     "output_type": "display_data"
    }
   ],
   "source": [
    "feature_importances = final_model.feature_importance(importance_type='gain')\n",
    "feature_names = final_model.feature_name()\n",
    "\n",
    "# Create a DataFrame of feature importances\n",
    "feat_imp_df = pd.DataFrame({\n",
    "    'feature': feature_names,\n",
    "    'importance': feature_importances\n",
    "}).sort_values(by='importance', ascending=False)\n",
    "\n",
    "# Export the feature importances to a CSV file\n",
    "\n",
    "feat_imp_df.to_csv(\"feature_importances.csv\", index=False)\n",
    "print(\"Feature importances saved to feature_importances.csv\")\n",
    "\n",
    "# Plot the top 20 most important features\n",
    "\n",
    "plt.figure(figsize=(12, 8))\n",
    "sns.barplot(data=feat_imp_df.head(20), x='importance', y='feature', palette='viridis')\n",
    "plt.title('Top 20 Feature Importances')\n",
    "plt.xlabel('Importance (Gain)')\n",
    "plt.ylabel('Feature')\n",
    "plt.tight_layout()\n",
    "plt.show()\n",
    "\n",
    "# --------------------------------------------------\n",
    "# 2. Plotting Pairwise Relationships with Target\n",
    "# --------------------------------------------------\n",
    "\n",
    "# For further insight, we can inspect how the most important features relate to the target variable \"Energia\".\n",
    "# Here we take the top 5 features for clarity (you can adjust this number).\n",
    "top_features = feat_imp_df.head(5)['feature'].tolist()\n",
    "\n",
    "# Create a list of columns to plot (top features + the target column)\n",
    "plot_columns = top_features + ['Energia']\n",
    "\n"
   ]
  },
  {
   "cell_type": "markdown",
   "id": "084bc823",
   "metadata": {},
   "source": [
    "How to Handle Lags in Forecasting\n",
    "\n",
    "Historical Averages\n",
    "\n",
    "+ compute the average values of your lag features (e.g., lag1, lag24, lag168, rolling statistics) from the training set, grouped by plant and hour.\n",
    "\n",
    "+ For each plant and each forecasted hour, we can merge the historical average of each lag feature. This ensures that your forecast input mimics the training conditions without using future data.\n",
    "\n",
    "+ Avoid Recursive Forecasting (if not implemented):\n",
    "  If you don’t use a recursive forecasting approach (where you predict one step ahead and then use that prediction to compute the next lag), then filling lag features with historical averages is a safe and common practice.ç\n",
    "\n"
   ]
  },
  {
   "cell_type": "markdown",
   "id": "29151e99",
   "metadata": {},
   "source": [
    "Alternative Transformations:\n",
    "\n",
    "+ If many offers are near zero, consider transformations like Box-Cox (with appropriate parameters) or modeling the ratio/difference directly.\n",
    "\n",
    "Additional Lags and Aggregates:\n",
    "\n",
    "+ Try incorporating more lag features (e.g., lag168 is good, but also consider lags for 12 or 48 hours) or aggregated features (rolling means/medians with different window sizes).\n",
    "\n",
    "Hyperparameter Tuning and Regularization:\n",
    "\n",
    "+ Use more extensive hyperparameter tuning (via Bayesian optimization or grid search) to find settings that reduce error.\n",
    "\n",
    "+ Combine forecasts from LightGBM with those from linear models (like ElasticNet)\n",
    "\n"
   ]
  },
  {
   "cell_type": "code",
   "execution_count": null,
   "id": "27accb42",
   "metadata": {},
   "outputs": [
    {
     "name": "stdout",
     "output_type": "stream",
     "text": [
      "\n",
      "Date Range: 2024-02-29 00:00:00 2024-06-01 22:00:00\n"
     ]
    },
    {
     "data": {
      "image/png": "[encoded data removed]",
      "text/plain": [
       "<Figure size 1200x800 with 2 Axes>"
      ]
     },
     "metadata": {},
     "output_type": "display_data"
    },
    {
     "name": "stdout",
     "output_type": "stream",
     "text": [
      "Merged DataFrame shape: (2409526, 45)\n"
     ]
    }
   ],
   "source": [
    "# Convert fechaHora to datetime and extract initial time features\n",
    "\n",
    "df_omie_labelled[\"fechaHora\"] = pd.to_datetime(df_omie_labelled[\"fechaHora\"])\n",
    "print(\"\\nDate Range:\", df_omie_labelled[\"fechaHora\"].min(), df_omie_labelled[\"fechaHora\"].max())\n",
    "df_omie_labelled[\"date\"] = df_omie_labelled[\"fechaHora\"].dt.date\n",
    "df_omie_labelled[\"hour\"] = df_omie_labelled[\"fechaHora\"].dt.hour\n",
    "df_omie_labelled[\"week\"] = df_omie_labelled[\"fechaHora\"].dt.isocalendar().week\n",
    "\n",
    "numerical_cols = df_omie_labelled.select_dtypes(include=[np.number]).columns\n",
    "corr_matrix = df_omie_labelled[numerical_cols].corr()\n",
    "plt.figure(figsize=(12, 8))\n",
    "sns.heatmap(corr_matrix, annot=True, cmap=\"coolwarm\", fmt=\".2f\", linewidths=0.5)\n",
    "plt.title(\"Correlation Matrix\")\n",
    "plt.show()\n",
    "\n",
    "# Improved Feature Engineering with Log Transformation, Additional Lags, and Rolling Aggregates\n",
    "\n",
    "def prepare_merged_dataframe_improved(df_omie, df_cat, df_unit):\n",
    "    \"\"\"\n",
    "    Merges datasets and creates features:\n",
    "      - Standard time features and cyclical encodings.\n",
    "      - Fourier series terms for daily (24h) and weekly (168h) seasonality.\n",
    "      - Additional lag features:\n",
    "            lag1 (1 hour), lag12 (12 hours), lag24 (24 hours), lag48 (48 hours), lag168 (168 hours).\n",
    "      - Rolling aggregates:\n",
    "            roll12_mean (12-hour rolling mean),\n",
    "            roll48_median (48-hour rolling median),\n",
    "            roll24_std (24-hour rolling standard deviation).\n",
    "      - Target transformation: log_Energia = log(Energia + 1).\n",
    "    \"\"\"\n",
    "    \n",
    "    # Process primary dataset\n",
    "    df_omie['fechaHora'] = pd.to_datetime(df_omie['fechaHora'])\n",
    "    df_omie['date'] = df_omie['fechaHora'].dt.date\n",
    "    df_omie['hour'] = df_omie['fechaHora'].dt.hour\n",
    "    df_omie['day_of_week'] = df_omie['fechaHora'].dt.dayofweek  # Monday=0, Sunday=6\n",
    "    df_omie['month'] = df_omie['fechaHora'].dt.month\n",
    "    df_omie['day_of_month'] = df_omie['fechaHora'].dt.day\n",
    "    df_omie['is_weekend'] = df_omie['day_of_week'].isin([5,6]).astype(int)\n",
    "    \n",
    "    # Cyclical encodings\n",
    "    df_omie['hour_sin'] = np.sin(2 * np.pi * df_omie['hour'] / 24)\n",
    "    df_omie['hour_cos'] = np.cos(2 * np.pi * df_omie['hour'] / 24)\n",
    "    df_omie['dow_sin'] = np.sin(2 * np.pi * df_omie['day_of_week'] / 7)\n",
    "    df_omie['dow_cos'] = np.cos(2 * np.pi * df_omie['day_of_week'] / 7)\n",
    "    \n",
    "    # Merge with supplemental datasets\n",
    "    df = df_omie.merge(df_unit, on='Codigo', how='left')\n",
    "    df = df.merge(df_cat, on='Codigo', how='left')\n",
    "    df.sort_values(['Codigo', 'fechaHora'], inplace=True)\n",
    "    \n",
    "    # Create continuous time variable 't' (hours since start)\n",
    "    df['t'] = (df['fechaHora'] - df['fechaHora'].min()).dt.total_seconds() / 3600\n",
    "\n",
    "    # Add Fourier series terms for seasonality (daily and weekly, using 3 harmonics)\n",
    "    for period in [24, 168]:\n",
    "        for k in range(1, 4):\n",
    "            df[f'sin_{period}_{k}'] = np.sin(2 * np.pi * k * df['t'] / period)\n",
    "            df[f'cos_{period}_{k}'] = np.cos(2 * np.pi * k * df['t'] / period)\n",
    "    \n",
    "    # Standard lags\n",
    "    \n",
    "    df['lag1_Energia'] = df.groupby('Codigo')['Energia'].shift(1)\n",
    "    df['lag24_Energia'] = df.groupby('Codigo')['Energia'].shift(24)\n",
    "    df['lag168_Energia'] = df.groupby('Codigo')['Energia'].shift(168)\n",
    "    \n",
    "    # Additional lags\n",
    "    \n",
    "    df['lag12_Energia'] = df.groupby('Codigo')['Energia'].shift(12)\n",
    "    df['lag48_Energia'] = df.groupby('Codigo')['Energia'].shift(48)\n",
    "    \n",
    "    # Rolling Aggregates\n",
    "    \n",
    "    df['roll12_mean_Energia'] = df.groupby('Codigo')['Energia'].transform(lambda x: x.rolling(window=12, min_periods=1).mean())\n",
    "    df['roll48_median_Energia'] = df.groupby('Codigo')['Energia'].transform(lambda x: x.rolling(window=48, min_periods=1).median())\n",
    "    df['roll24_std_Energia'] = df.groupby('Codigo')['Energia'].transform(lambda x: x.rolling(window=24, min_periods=1).std())\n",
    "    \n",
    "\n",
    "    # Target Transformation\n",
    "    \n",
    "    df['log_Energia'] = np.log(df['Energia'] + 1)\n",
    "    \n",
    "    return df\n",
    "\n",
    "# Apply feature engineering\n",
    "\n",
    "merged_df = prepare_merged_dataframe_improved(df_omie_labelled, df_filtered_cat, df_unit_list)\n",
    "print(\"Merged DataFrame shape:\", merged_df.shape)\n"
   ]
  },
  {
   "cell_type": "code",
   "execution_count": null,
   "id": "d5d5b5e4",
   "metadata": {},
   "outputs": [
    {
     "name": "stdout",
     "output_type": "stream",
     "text": [
      "Total training samples: 2409526\n",
      "Sample of lag features and aggregates:\n",
      "       lag1_Energia  lag12_Energia  lag24_Energia  lag48_Energia  \\\n",
      "0              NaN            NaN            NaN            NaN   \n",
      "1069           0.0            NaN            NaN            NaN   \n",
      "2138           0.0            NaN            NaN            NaN   \n",
      "3207           0.0            NaN            NaN            NaN   \n",
      "4276           0.0            NaN            NaN            NaN   \n",
      "\n",
      "      lag168_Energia  roll12_mean_Energia  roll48_median_Energia  \\\n",
      "0                NaN                  0.0                    0.0   \n",
      "1069             NaN                  0.0                    0.0   \n",
      "2138             NaN                  0.0                    0.0   \n",
      "3207             NaN                  0.0                    0.0   \n",
      "4276             NaN                  0.0                    0.0   \n",
      "\n",
      "      roll24_std_Energia  \n",
      "0                    NaN  \n",
      "1069                 0.0  \n",
      "2138                 0.0  \n",
      "3207                 0.0  \n",
      "4276                 0.0  \n"
     ]
    }
   ],
   "source": [
    "# Splitting Training Data and Defining Features\n",
    "\n",
    "forecast_start = pd.Timestamp('2024-06-01 23:00:00')\n",
    "forecast_end   = pd.Timestamp('2024-06-29 23:00:00')\n",
    "train_df = merged_df[merged_df['fechaHora'] < forecast_start].copy()\n",
    "\n",
    "# Define feature lists (exclude original Energia; use log_Energia as target)\n",
    "\n",
    "categorical_features = ['Codigo'] + [col for col in ['Categoria', 'Tipo_Unidad', 'Zona/Frontera', 'Tecnología', 'Agente'] if col in train_df.columns]\n",
    "EXCLUDED_COLS = ['Energia', 'PrecEuro', 'log_Energia']\n",
    "numerical_features = [col for col in merged_df.select_dtypes(include=[np.number]).columns if col not in EXCLUDED_COLS]\n",
    "metadata_features = []  \n",
    "\n",
    "feature_cols = categorical_features + numerical_features + metadata_features\n",
    "target_col = 'log_Energia'\n",
    "\n",
    "# Convert cat feat to cat type\n",
    "\n",
    "for col in categorical_features:\n",
    "    train_df[col] = train_df[col].astype('category')\n",
    "\n",
    "train_df = train_df.dropna(subset=[target_col])\n",
    "\n",
    "# Zero indicator \n",
    "\n",
    "train_df['zero_indicator'] = (train_df['lag1_Energia'] == 0).astype(int)\n",
    "if 'zero_indicator' not in feature_cols:\n",
    "    feature_cols.append('zero_indicator')\n",
    "\n",
    "# Split training data into X and y\n",
    "\n",
    "X = train_df[feature_cols]\n",
    "y = train_df[target_col]\n",
    "print(f\"Total training samples: {X.shape[0]}\")\n",
    "print(\"Sample of lag features and aggregates:\\n\", X[['lag1_Energia','lag12_Energia','lag24_Energia','lag48_Energia','lag168_Energia',\n",
    "                                                    'roll12_mean_Energia','roll48_median_Energia','roll24_std_Energia']].head())\n",
    "\n"
   ]
  },
  {
   "cell_type": "code",
   "execution_count": null,
   "id": "7ce6bdcd",
   "metadata": {},
   "outputs": [
    {
     "name": "stdout",
     "output_type": "stream",
     "text": [
      "Training until validation scores don't improve for 50 rounds\n",
      "Early stopping, best iteration is:\n",
      "[175]\ttraining's l1: 0.0723555\tvalid_1's l1: 0.146071\n",
      "Fold 1: MAE = 0.1461, MAPE = 14.2685\n",
      "Training until validation scores don't improve for 50 rounds\n",
      "Early stopping, best iteration is:\n",
      "[265]\ttraining's l1: 0.0731949\tvalid_1's l1: 0.088586\n",
      "Fold 2: MAE = 0.0886, MAPE = 12.8060\n",
      "Training until validation scores don't improve for 50 rounds\n",
      "Did not meet early stopping. Best iteration is:\n",
      "[984]\ttraining's l1: 0.0674027\tvalid_1's l1: 0.0498762\n",
      "Fold 3: MAE = 0.0499, MAPE = 4.2820\n",
      "Average MAE across folds: 0.09484434563240153\n",
      "Average MAPE across folds: 10.452168994776278\n",
      "Final LightGBM model training complete.\n"
     ]
    }
   ],
   "source": [
    "# TimeSeries Cross-Validation Setup\n",
    "\n",
    "tss = TimeSeriesSplit(n_splits=3, test_size=24*28*train_df['Codigo'].nunique(), gap=24)\n",
    "epsilon = 0.001\n",
    "def adjusted_mape(y_true, y_pred, epsilon=epsilon):\n",
    "    return np.mean(np.abs(y_true - y_pred) / (np.abs(y_true) + epsilon))\n",
    "\n",
    "# Model Training with LightGBM\n",
    "\n",
    "params_lgb = {\n",
    "    'metric': 'mae',\n",
    "    'learning_rate': 0.04139,\n",
    "    'num_leaves': 59,\n",
    "    'max_depth': 7,\n",
    "    'min_data_in_leaf': 26,\n",
    "    'feature_fraction': 0.99997,\n",
    "    'bagging_fraction': 0.65532,\n",
    "    'bagging_freq': 6,\n",
    "    'lambda_l1': 0.1,\n",
    "    'lambda_l2': 0.1,\n",
    "    'verbose': -1,\n",
    "    'seed': 42\n",
    "}\n",
    "\n",
    "mae_scores, mape_scores = [], []\n",
    "fold = 1\n",
    "for train_index, val_index in tss.split(X):\n",
    "    X_tr, X_val = X.iloc[train_index], X.iloc[val_index]\n",
    "    y_tr, y_val = y.iloc[train_index], y.iloc[val_index]\n",
    "    \n",
    "    lgb_train = lgb.Dataset(X_tr, label=y_tr, categorical_feature=categorical_features + ['zero_indicator'])\n",
    "    lgb_val = lgb.Dataset(X_val, label=y_val, categorical_feature=categorical_features + ['zero_indicator'])\n",
    "    \n",
    "    model = lgb.train(params_lgb, lgb_train, num_boost_round=1000, valid_sets=[lgb_train, lgb_val],\n",
    "                      callbacks=[lgb.early_stopping(stopping_rounds=50)])\n",
    "    \n",
    "    y_pred_val = model.predict(X_val, num_iteration=model.best_iteration)\n",
    "    mae_scores.append(mean_absolute_error(y_val, y_pred_val))\n",
    "    mape_scores.append(adjusted_mape(y_val, y_pred_val))\n",
    "    print(f\"Fold {fold}: MAE = {mae_scores[-1]:.4f}, MAPE = {mape_scores[-1]:.4f}\")\n",
    "    fold += 1\n",
    "\n",
    "print(\"Average MAE across folds:\", np.mean(mae_scores))\n",
    "print(\"Average MAPE across folds:\", np.mean(mape_scores))\n",
    "\n",
    "# Train final LightGBM model on all training data\n",
    "\n",
    "final_lgb_train = lgb.Dataset(X, label=y, categorical_feature=categorical_features + ['zero_indicator'])\n",
    "final_model = lgb.train(params_lgb, final_lgb_train, num_boost_round=200)\n",
    "print(\"Final LightGBM model training complete.\")\n"
   ]
  },
  {
   "cell_type": "code",
   "execution_count": null,
   "id": "002abd15",
   "metadata": {},
   "outputs": [
    {
     "name": "stderr",
     "output_type": "stream",
     "text": [
      "/var/folders/p1/vj5nk3dj08nbdgjg1lst8k_w0000gn/T/ipykernel_10434/2087976900.py:6: FutureWarning: 'H' is deprecated and will be removed in a future version, please use 'h' instead.\n",
      "  forecast_times = pd.date_range(start=forecast_start, end=forecast_end, freq='H')\n",
      "/var/folders/p1/vj5nk3dj08nbdgjg1lst8k_w0000gn/T/ipykernel_10434/2087976900.py:41: FutureWarning: The default of observed=False is deprecated and will be changed to True in a future version of pandas. Pass observed=False to retain current behavior or observed=True to adopt the future default and silence this warning.\n",
      "  avg_features = train_df.groupby(['Codigo', 'hour']).agg({\n"
     ]
    }
   ],
   "source": [
    "# Forecasting Setup: Handling Lags Using Historical Averages \n",
    "\n",
    "# Create forecast DataFrame for the period June 1, 2024, 23:00 to June 29, 2024, 23:00\n",
    "\n",
    "all_plants = merged_df['Codigo'].unique()\n",
    "forecast_times = pd.date_range(start=forecast_start, end=forecast_end, freq='H')\n",
    "forecast_df = pd.DataFrame([(codigo, ts) for codigo in all_plants for ts in forecast_times],\n",
    "                           columns=['Codigo', 'fechaHora'])\n",
    "\n",
    "# Compute basic time features for forecast period\n",
    "\n",
    "forecast_df['fechaHora'] = pd.to_datetime(forecast_df['fechaHora'])\n",
    "forecast_df['hour'] = forecast_df['fechaHora'].dt.hour\n",
    "forecast_df['day_of_week'] = forecast_df['fechaHora'].dt.dayofweek\n",
    "forecast_df['month'] = forecast_df['fechaHora'].dt.month\n",
    "forecast_df['day_of_month'] = forecast_df['fechaHora'].dt.day\n",
    "forecast_df['week'] = forecast_df['fechaHora'].dt.isocalendar().week\n",
    "forecast_df['is_weekend'] = forecast_df['day_of_week'].isin([5,6]).astype(int)\n",
    "\n",
    "# Cyclical encodings for forecast period\n",
    "\n",
    "forecast_df['hour_sin'] = np.sin(2 * np.pi * forecast_df['hour'] / 24)\n",
    "forecast_df['hour_cos'] = np.cos(2 * np.pi * forecast_df['hour'] / 24)\n",
    "forecast_df['dow_sin']  = np.sin(2 * np.pi * forecast_df['day_of_week'] / 7)\n",
    "forecast_df['dow_cos']  = np.cos(2 * np.pi * forecast_df['day_of_week'] / 7)\n",
    "\n",
    "# Create continuous time variable 't'\n",
    "\n",
    "min_time = merged_df['fechaHora'].min()\n",
    "forecast_df['t'] = (forecast_df['fechaHora'] - min_time).dt.total_seconds() / 3600\n",
    "\n",
    "# Add Fourier series terms for forecast data (24h and 168h, using 3 harmonics)\n",
    "\n",
    "for period in [24, 168]:\n",
    "    for k in range(1, 4):\n",
    "        forecast_df[f'sin_{period}_{k}'] = np.sin(2 * np.pi * k * forecast_df['t'] / period)\n",
    "        forecast_df[f'cos_{period}_{k}'] = np.cos(2 * np.pi * k * forecast_df['t'] / period)\n",
    "\n",
    "# Compute Historical Averages for Lag Features from Training Data\n",
    "\n",
    "avg_features = train_df.groupby(['Codigo', 'hour']).agg({\n",
    "    'lag1_Energia': 'mean',\n",
    "    'lag12_Energia': 'mean',\n",
    "    'lag24_Energia': 'mean',\n",
    "    'lag48_Energia': 'mean',\n",
    "    'lag168_Energia': 'mean',\n",
    "    'roll12_mean_Energia': 'mean',\n",
    "    'roll48_median_Energia': 'mean',\n",
    "    'roll24_std_Energia': 'mean',\n",
    "    'PrecEuro': 'mean'\n",
    "}).reset_index().rename(columns={\n",
    "    'lag1_Energia': 'lag1_Energia_avg',\n",
    "    'lag12_Energia': 'lag12_Energia_avg',\n",
    "    'lag24_Energia': 'lag24_Energia_avg',\n",
    "    'lag48_Energia': 'lag48_Energia_avg',\n",
    "    'lag168_Energia': 'lag168_Energia_avg',\n",
    "    'roll12_mean_Energia': 'roll12_mean_Energia_avg',\n",
    "    'roll48_median_Energia': 'roll48_median_Energia_avg',\n",
    "    'roll24_std_Energia': 'roll24_std_Energia_avg',\n",
    "    'PrecEuro': 'PrecEuro_avg'\n",
    "})\n",
    "forecast_df = forecast_df.merge(avg_features, on=['Codigo', 'hour'], how='left')\n",
    "\n",
    "# lag and rolling features are replaced with the forecast with the historical averages\n",
    "\n",
    "forecast_df['lag1_Energia'] = forecast_df['lag1_Energia_avg']\n",
    "forecast_df['lag12_Energia'] = forecast_df['lag12_Energia_avg']\n",
    "forecast_df['lag24_Energia'] = forecast_df['lag24_Energia_avg']\n",
    "forecast_df['lag48_Energia'] = forecast_df['lag48_Energia_avg']\n",
    "forecast_df['lag168_Energia'] = forecast_df['lag168_Energia_avg']\n",
    "forecast_df['roll12_mean_Energia'] = forecast_df['roll12_mean_Energia_avg']\n",
    "forecast_df['roll48_median_Energia'] = forecast_df['roll48_median_Energia_avg']\n",
    "forecast_df['roll24_std_Energia'] = forecast_df['roll24_std_Energia_avg']\n",
    "forecast_df['PrecEuro'] = forecast_df['PrecEuro_avg']\n",
    "forecast_df.drop(columns=['lag1_Energia_avg','lag12_Energia_avg','lag24_Energia_avg','lag48_Energia_avg',\n",
    "                            'lag168_Energia_avg','roll12_mean_Energia_avg','roll48_median_Energia_avg',\n",
    "                            'roll24_std_Energia_avg','PrecEuro_avg'], inplace=True)\n",
    "\n",
    "# Merge static plant information \n",
    "\n",
    "static_info = merged_df.drop_duplicates(subset='Codigo')[['Codigo', 'Categoria', 'Tipo_Unidad', 'Zona/Frontera', 'Tecnología', 'Agente']]\n",
    "forecast_df = forecast_df.merge(static_info, on='Codigo', how='left')\n",
    "\n",
    "# Add zero indicator\n",
    "\n",
    "forecast_df['zero_indicator'] = 0\n"
   ]
  },
  {
   "cell_type": "code",
   "execution_count": null,
   "id": "1940bf68",
   "metadata": {},
   "outputs": [
    {
     "name": "stdout",
     "output_type": "stream",
     "text": [
      "Adding missing features to X_forecast: ['Porcentaje_Propiedad']\n"
     ]
    }
   ],
   "source": [
    "# Ensure forecast feature columns match training feature columns\n",
    "feature_cols = [col for col in feature_cols if col in forecast_df.columns]\n",
    "X_forecast = forecast_df[feature_cols].copy()\n",
    "missing_features = [col for col in X.columns if col not in X_forecast.columns]\n",
    "if missing_features:\n",
    "    print(\"Adding missing features to X_forecast:\", missing_features)\n",
    "    for col in missing_features:\n",
    "        X_forecast[col] = 0\n",
    "X_forecast = X_forecast[X.columns]\n",
    "for col in categorical_features:\n",
    "    if col in X_forecast.columns:\n",
    "        X_forecast[col] = X_forecast[col].astype('category')"
   ]
  },
  {
   "cell_type": "code",
   "execution_count": null,
   "id": "a5225d3a",
   "metadata": {},
   "outputs": [
    {
     "name": "stdout",
     "output_type": "stream",
     "text": [
      "Generating forecasts with LightGBM...\n"
     ]
    }
   ],
   "source": [
    "print(\"Generating forecasts with LightGBM...\")\n",
    "forecast_df['log_Energia_pred_lgb'] = final_model.predict(X_forecast)\n"
   ]
  },
  {
   "cell_type": "code",
   "execution_count": null,
   "id": "706c14f8",
   "metadata": {},
   "outputs": [],
   "source": [
    "# Inverse the log transformation: Energia = exp(pred) - 1\n",
    "forecast_df['Energia'] = np.exp(forecast_df['log_Energia_pred_lgb']) - 1"
   ]
  },
  {
   "cell_type": "code",
   "execution_count": null,
   "id": "970c072d",
   "metadata": {},
   "outputs": [
    {
     "name": "stdout",
     "output_type": "stream",
     "text": [
      "Forecasts saved to Challenge1_404TeamNotFound.csv\n"
     ]
    }
   ],
   "source": [
    "output_df = forecast_df[['Codigo', 'fechaHora', 'Energia']].copy()\n",
    "output_csv_path = 'Challenge1_404TeamNotFound.csv'\n",
    "output_df.to_csv(output_csv_path, index=False)\n",
    "print(f\"Forecasts saved to {output_csv_path}\")"
   ]
  },
  {
   "cell_type": "code",
   "execution_count": null,
   "id": "0af8efbf",
   "metadata": {},
   "outputs": [
    {
     "name": "stdout",
     "output_type": "stream",
     "text": [
      "Feature importances saved to feature_importances.csv\n"
     ]
    },
    {
     "name": "stderr",
     "output_type": "stream",
     "text": [
      "/var/folders/p1/vj5nk3dj08nbdgjg1lst8k_w0000gn/T/ipykernel_10434/704630359.py:11: FutureWarning: \n",
      "\n",
      "Passing `palette` without assigning `hue` is deprecated and will be removed in v0.14.0. Assign the `y` variable to `hue` and set `legend=False` for the same effect.\n",
      "\n",
      "  sns.barplot(data=feat_imp_df.head(20), x='importance', y='feature', palette='viridis')\n"
     ]
    },
    {
     "data": {
      "image/png": "[encoded data removed]",
      "text/plain": [
       "<Figure size 1200x800 with 1 Axes>"
      ]
     },
     "metadata": {},
     "output_type": "display_data"
    }
   ],
   "source": [
    "\n",
    "# Feature Importance and Visualization\n",
    "\n",
    "feature_importances = final_model.feature_importance(importance_type='gain')\n",
    "feature_names = final_model.feature_name()\n",
    "feat_imp_df = pd.DataFrame({'feature': feature_names, 'importance': feature_importances})\n",
    "feat_imp_df = feat_imp_df.sort_values(by='importance', ascending=False)\n",
    "feat_imp_df.to_csv(\"feature_importances.csv\", index=False)\n",
    "print(\"Feature importances saved to feature_importances.csv\")\n",
    "\n",
    "plt.figure(figsize=(12, 8))\n",
    "sns.barplot(data=feat_imp_df.head(20), x='importance', y='feature', palette='viridis')\n",
    "plt.title('Top 20 Feature Importances')\n",
    "plt.xlabel('Importance (Gain)')\n",
    "plt.ylabel('Feature')\n",
    "plt.tight_layout()\n",
    "plt.show()\n"
   ]
  }
 ],
 "metadata": {
  "kernelspec": {
   "display_name": "ai_env",
   "language": "python",
   "name": "python3"
  },
  "language_info": {
   "codemirror_mode": {
    "name": "ipython",
    "version": 3
   },
   "file_extension": ".py",
   "mimetype": "text/x-python",
   "name": "python",
   "nbconvert_exporter": "python",
   "pygments_lexer": "ipython3",
   "version": "3.11.8"
  }
 },
 "nbformat": 4,
 "nbformat_minor": 5
}
